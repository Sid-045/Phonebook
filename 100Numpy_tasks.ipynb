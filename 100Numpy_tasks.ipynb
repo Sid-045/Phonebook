{
  "cells": [
    {
      "cell_type": "markdown",
      "metadata": {
        "id": "view-in-github",
        "colab_type": "text"
      },
      "source": [
        "<a href=\"https://colab.research.google.com/github/Sid-045/Phonebook/blob/main/100Numpy_tasks.ipynb\" target=\"_parent\"><img src=\"https://colab.research.google.com/assets/colab-badge.svg\" alt=\"Open In Colab\"/></a>"
      ]
    },
    {
      "cell_type": "markdown",
      "metadata": {
        "id": "Pza7AgDs4RLn"
      },
      "source": [
        "# Numpy\n",
        "\n"
      ]
    },
    {
      "cell_type": "markdown",
      "metadata": {
        "id": "-0hI6gZ24RLq"
      },
      "source": [
        "#### 1. Import the numpy package under the name `np` (★☆☆) \n",
        "(**hint**: import … as …)"
      ]
    },
    {
      "cell_type": "code",
      "execution_count": null,
      "metadata": {
        "collapsed": true,
        "id": "JIhyVQ2L4RLq"
      },
      "outputs": [],
      "source": [
        "import numpy as np"
      ]
    },
    {
      "cell_type": "markdown",
      "metadata": {
        "id": "3tW03m_v4RLr"
      },
      "source": [
        "#### 2. Print the numpy version and the configuration (★☆☆) \n",
        "(**hint**: np.\\_\\_version\\_\\_, np.show\\_config)"
      ]
    },
    {
      "cell_type": "code",
      "execution_count": null,
      "metadata": {
        "id": "8bm9YZP_4RLr",
        "outputId": "be4555be-c0c9-4b79-b0c1-2b5f30cf9fe3",
        "colab": {
          "base_uri": "https://localhost:8080/"
        }
      },
      "outputs": [
        {
          "output_type": "stream",
          "name": "stdout",
          "text": [
            "1.19.5\n",
            "<function show at 0x7fe0fb5ae320>\n"
          ]
        }
      ],
      "source": [
        "print(np.__version__)\n",
        "print(np.show_config)"
      ]
    },
    {
      "cell_type": "markdown",
      "metadata": {
        "id": "8jgn2wzB4RLs"
      },
      "source": [
        "#### 3. Create a null vector of size 10 (★☆☆) \n",
        "(**hint**: np.zeros)"
      ]
    },
    {
      "cell_type": "code",
      "execution_count": null,
      "metadata": {
        "id": "qde6FMyz4RLs"
      },
      "outputs": [],
      "source": [
        "z=np.zeros(10)"
      ]
    },
    {
      "cell_type": "markdown",
      "metadata": {
        "id": "1KKfq7V-4RLs"
      },
      "source": [
        "#### 4.  How to find the memory size of any array (★☆☆) \n",
        "(**hint**: size, itemsize)"
      ]
    },
    {
      "cell_type": "code",
      "execution_count": null,
      "metadata": {
        "id": "wM3yuGEY4RLt",
        "outputId": "fe199326-7ce2-42f8-c6f1-db689f1881c4",
        "colab": {
          "base_uri": "https://localhost:8080/"
        }
      },
      "outputs": [
        {
          "output_type": "stream",
          "name": "stdout",
          "text": [
            "80\n"
          ]
        }
      ],
      "source": [
        "\n",
        "print((z.size * z.itemsize))"
      ]
    },
    {
      "cell_type": "markdown",
      "metadata": {
        "id": "8bGTxKYJ4RLt"
      },
      "source": [
        "#### 5.  How to get the documentation of the numpy add function from the command line? (★☆☆) \n",
        "(**hint**: np.info)"
      ]
    },
    {
      "cell_type": "code",
      "execution_count": null,
      "metadata": {
        "collapsed": true,
        "id": "i4hC_q6I4RLu",
        "outputId": "43addac6-369a-42b1-ceba-4d062657ad11",
        "colab": {
          "base_uri": "https://localhost:8080/"
        }
      },
      "outputs": [
        {
          "output_type": "stream",
          "name": "stdout",
          "text": [
            "None\n"
          ]
        }
      ],
      "source": [
        "print(np.info(np.add))"
      ]
    },
    {
      "cell_type": "markdown",
      "metadata": {
        "id": "_qZ9j_Sc4RLu"
      },
      "source": [
        "#### 6.  Create a null vector of size 10 but the fifth value which is 1 (★☆☆) \n",
        "(**hint**: array\\[4\\])"
      ]
    },
    {
      "cell_type": "code",
      "execution_count": null,
      "metadata": {
        "id": "x4SXYsQD4RLu",
        "outputId": "6275db3f-5704-421f-aee2-d069384611d9",
        "colab": {
          "base_uri": "https://localhost:8080/"
        }
      },
      "outputs": [
        {
          "output_type": "stream",
          "name": "stdout",
          "text": [
            "[0. 0. 0. 0. 1. 0. 0. 0. 0. 0.]\n"
          ]
        }
      ],
      "source": [
        "z=np.zeros(10)\n",
        "z[4]=1\n",
        "print(z)"
      ]
    },
    {
      "cell_type": "markdown",
      "metadata": {
        "id": "CA7wrt7G4RLv"
      },
      "source": [
        "#### 7.  Create a vector with values ranging from 10 to 49 (★☆☆) \n",
        "(**hint**: np.arange)"
      ]
    },
    {
      "cell_type": "code",
      "execution_count": null,
      "metadata": {
        "id": "JpD2T3n44RLv",
        "outputId": "ccc6ee75-5d30-484c-d1f9-36f5a74bf172",
        "colab": {
          "base_uri": "https://localhost:8080/"
        }
      },
      "outputs": [
        {
          "output_type": "stream",
          "name": "stdout",
          "text": [
            "[10 11 12 13 14 15 16 17 18 19 20 21 22 23 24 25 26 27 28 29 30 31 32 33\n",
            " 34 35 36 37 38 39 40 41 42 43 44 45 46 47 48 49]\n"
          ]
        }
      ],
      "source": [
        "z=np.arange(10,50,1)\n",
        "print(z)"
      ]
    },
    {
      "cell_type": "markdown",
      "metadata": {
        "id": "R81f55WL4RLv"
      },
      "source": [
        "#### 8.  Reverse a vector (first element becomes last) (★☆☆) \n",
        "(**hint**: array\\[::-1\\])"
      ]
    },
    {
      "cell_type": "code",
      "execution_count": null,
      "metadata": {
        "id": "Y9tF7ypW4RLw",
        "outputId": "1d082eaf-b011-4bef-9a4f-dd2dc1b8c8c0",
        "colab": {
          "base_uri": "https://localhost:8080/"
        }
      },
      "outputs": [
        {
          "output_type": "stream",
          "name": "stdout",
          "text": [
            "[49 48 47 46 45 44 43 42 41 40 39 38 37 36 35 34 33 32 31 30 29 28 27 26\n",
            " 25 24 23 22 21 20 19 18 17 16 15 14 13 12 11 10]\n"
          ]
        }
      ],
      "source": [
        "z=z[::-1]\n",
        "print(z)"
      ]
    },
    {
      "cell_type": "markdown",
      "metadata": {
        "id": "fE-TTjSP4RLw"
      },
      "source": [
        "#### 9.  Create a 3x3 matrix with values ranging from 0 to 8 (★☆☆) \n",
        "(**hint**: reshape)"
      ]
    },
    {
      "cell_type": "code",
      "execution_count": null,
      "metadata": {
        "id": "kZKhclTQ4RLw",
        "outputId": "3105816d-105a-437d-c505-3a63699ed057",
        "colab": {
          "base_uri": "https://localhost:8080/"
        }
      },
      "outputs": [
        {
          "output_type": "stream",
          "name": "stdout",
          "text": [
            "[[0 1 2]\n",
            " [3 4 5]\n",
            " [6 7 8]]\n"
          ]
        }
      ],
      "source": [
        "y=np.arange(0,9)\n",
        "y=y.reshape(3,3)\n",
        "print(y)"
      ]
    },
    {
      "cell_type": "markdown",
      "metadata": {
        "id": "1r_wS4704RLx"
      },
      "source": [
        "#### 10. Find indices of non-zero elements from \\[1,2,0,0,4,0\\] (★☆☆) \n",
        "(**hint**: np.nonzero)"
      ]
    },
    {
      "cell_type": "code",
      "execution_count": null,
      "metadata": {
        "id": "UvXLGWVq4RLy",
        "outputId": "8384c8a5-8fb0-4099-b410-bee51a6ea8b1",
        "colab": {
          "base_uri": "https://localhost:8080/"
        }
      },
      "outputs": [
        {
          "output_type": "stream",
          "name": "stdout",
          "text": [
            "(array([0, 1, 4]),)\n"
          ]
        }
      ],
      "source": [
        "a=[1,2,0,0,4,0]\n",
        "print(np.nonzero(a))"
      ]
    },
    {
      "cell_type": "markdown",
      "metadata": {
        "id": "S4TocZs44RLy"
      },
      "source": [
        "#### 11. Create a 3x3 identity matrix (★☆☆) \n",
        "(**hint**: np.eye)"
      ]
    },
    {
      "cell_type": "code",
      "execution_count": null,
      "metadata": {
        "id": "n419Ffqk4RLz",
        "outputId": "1cb682bd-9e74-4d7b-cd90-eedee05cc657",
        "colab": {
          "base_uri": "https://localhost:8080/"
        }
      },
      "outputs": [
        {
          "output_type": "stream",
          "name": "stdout",
          "text": [
            "[[1. 0. 0.]\n",
            " [0. 1. 0.]\n",
            " [0. 0. 1.]]\n"
          ]
        }
      ],
      "source": [
        "z= np.eye(3)\n",
        "print(z)"
      ]
    },
    {
      "cell_type": "markdown",
      "metadata": {
        "id": "EnRqVjkq4RL0"
      },
      "source": [
        "#### 12. Create a 3x3x3 array with random values (★☆☆) \n",
        "(**hint**: np.random.random)"
      ]
    },
    {
      "cell_type": "code",
      "execution_count": null,
      "metadata": {
        "collapsed": true,
        "id": "JTGpD0H94RL0",
        "outputId": "9c6a2eab-bf40-484a-85f7-dd6a40fb003b",
        "colab": {
          "base_uri": "https://localhost:8080/"
        }
      },
      "outputs": [
        {
          "output_type": "stream",
          "name": "stdout",
          "text": [
            "[[[0.8709027  0.42915836 0.10271224]\n",
            "  [0.03646832 0.91411425 0.67586867]\n",
            "  [0.82160317 0.42886662 0.12145861]]\n",
            "\n",
            " [[0.91359808 0.79941382 0.11362891]\n",
            "  [0.04117129 0.44346166 0.49200378]\n",
            "  [0.87434571 0.9458454  0.16195899]]\n",
            "\n",
            " [[0.0888145  0.01409804 0.59759284]\n",
            "  [0.72440196 0.31265804 0.02838799]\n",
            "  [0.69251197 0.5769197  0.33765585]]]\n"
          ]
        }
      ],
      "source": [
        "z = np.random.random(27)\n",
        "z=z.reshape(3,3,3)\n",
        "print(z)"
      ]
    },
    {
      "cell_type": "markdown",
      "metadata": {
        "id": "jYkPtFZH4RL1"
      },
      "source": [
        "#### 13. Create a 10x10 array with random values and find the minimum and maximum values (★☆☆) \n",
        "(**hint**: min, max)"
      ]
    },
    {
      "cell_type": "code",
      "execution_count": null,
      "metadata": {
        "id": "bat7D2YP4RL1",
        "outputId": "e3f8cf86-2b5c-432c-fd0c-cdd71e90020d",
        "colab": {
          "base_uri": "https://localhost:8080/"
        }
      },
      "outputs": [
        {
          "output_type": "stream",
          "name": "stdout",
          "text": [
            "0.02181018068894125 0.992324286246385\n"
          ]
        }
      ],
      "source": [
        "z = np.random.random(100)\n",
        "z=z.reshape(10,10)\n",
        "print(z.min(),z.max())"
      ]
    },
    {
      "cell_type": "markdown",
      "metadata": {
        "id": "F7OlUaJg4RL1"
      },
      "source": [
        "#### 14. Create a random vector of size 30 and find the mean value (★☆☆) \n",
        "(**hint**: mean)"
      ]
    },
    {
      "cell_type": "code",
      "execution_count": null,
      "metadata": {
        "id": "SgV-axsm4RL1",
        "outputId": "dde07047-f2e3-4684-e47f-6f79cb2bdd93",
        "colab": {
          "base_uri": "https://localhost:8080/"
        }
      },
      "outputs": [
        {
          "output_type": "stream",
          "name": "stdout",
          "text": [
            "0.49331884265003745\n"
          ]
        }
      ],
      "source": [
        "z= np.random.random(30)\n",
        "print(z.mean())\n"
      ]
    },
    {
      "cell_type": "markdown",
      "metadata": {
        "id": "jNQclm7f4RL2"
      },
      "source": [
        "#### 15. Create a 2d array with 1 on the border and 0 inside (★☆☆) \n",
        "(**hint**: array\\[1:-1, 1:-1\\])"
      ]
    },
    {
      "cell_type": "code",
      "execution_count": null,
      "metadata": {
        "id": "FJLWgWu24RL2",
        "outputId": "e3375f8a-147b-4160-d9a9-43fe6af28264",
        "colab": {
          "base_uri": "https://localhost:8080/"
        }
      },
      "outputs": [
        {
          "output_type": "stream",
          "name": "stdout",
          "text": [
            "[[1. 1. 1. 1. 1.]\n",
            " [1. 0. 0. 0. 1.]\n",
            " [1. 0. 0. 0. 1.]\n",
            " [1. 0. 0. 0. 1.]\n",
            " [1. 1. 1. 1. 1.]]\n"
          ]
        }
      ],
      "source": [
        "z=np.zeros((5,5))\n",
        "z[0,:]=1\n",
        "z[-1,:]=1\n",
        "z[:,0]=1\n",
        "z[:,-1]=1\n",
        "print(z)\n"
      ]
    },
    {
      "cell_type": "markdown",
      "metadata": {
        "id": "LUvl2Ffn4RL2"
      },
      "source": [
        "#### 16. How to add a border (filled with 0's) around an existing array? (★☆☆) \n",
        "(**hint**: np.pad)"
      ]
    },
    {
      "cell_type": "code",
      "execution_count": null,
      "metadata": {
        "id": "WP-rYytp4RL2",
        "outputId": "52485c15-f4b9-4bd1-be9a-dd839123e34f",
        "colab": {
          "base_uri": "https://localhost:8080/"
        }
      },
      "outputs": [
        {
          "output_type": "stream",
          "name": "stdout",
          "text": [
            "[[1. 1. 1. 1. 1.]\n",
            " [1. 1. 1. 1. 1.]\n",
            " [1. 1. 1. 1. 1.]\n",
            " [1. 1. 1. 1. 1.]\n",
            " [1. 1. 1. 1. 1.]]\n",
            "[[0. 0. 0. 0. 0. 0. 0.]\n",
            " [0. 1. 1. 1. 1. 1. 0.]\n",
            " [0. 1. 1. 1. 1. 1. 0.]\n",
            " [0. 1. 1. 1. 1. 1. 0.]\n",
            " [0. 1. 1. 1. 1. 1. 0.]\n",
            " [0. 1. 1. 1. 1. 1. 0.]\n",
            " [0. 0. 0. 0. 0. 0. 0.]]\n"
          ]
        }
      ],
      "source": [
        "z=np.ones((5,5))\n",
        "print(z)\n",
        "z=np.pad(z,pad_width=1, mode='constant', constant_values=0)\n",
        "print(z)"
      ]
    },
    {
      "cell_type": "markdown",
      "metadata": {
        "id": "25O_ovTr4RL2"
      },
      "source": [
        "#### 17. What is the result of the following expression? (★☆☆) \n",
        "(**hint**: NaN = not a number, inf = infinity)"
      ]
    },
    {
      "cell_type": "markdown",
      "metadata": {
        "id": "WO8JPgSz4RL3"
      },
      "source": [
        "```python\n",
        "0 * np.nan\n",
        "np.nan == np.nan\n",
        "np.inf > np.nan\n",
        "np.nan - np.nan\n",
        "0.3 == 3 * 0.1\n",
        "```"
      ]
    },
    {
      "cell_type": "code",
      "execution_count": null,
      "metadata": {
        "id": "UYszYwso4RL3",
        "outputId": "adfc2bf5-292c-4fae-d110-f24fbe0adcb7",
        "colab": {
          "base_uri": "https://localhost:8080/"
        }
      },
      "outputs": [
        {
          "output_type": "stream",
          "name": "stdout",
          "text": [
            "nan\n",
            "inf\n",
            "False\n",
            "False\n",
            "nan\n",
            "False\n"
          ]
        }
      ],
      "source": [
        "print(0*np.nan)\n",
        "print(np.inf)\n",
        "print(np.nan == np.nan)\n",
        "print(np.inf > np.nan)\n",
        "print(np.nan - np.nan)\n",
        "print(0.3 == 3 * 0.1)"
      ]
    },
    {
      "cell_type": "markdown",
      "metadata": {
        "id": "0vLF-9Yq4RL3"
      },
      "source": [
        "#### 18. Create a 5x5 matrix with values 1,2,3,4 just below the diagonal (★☆☆) \n",
        "(**hint**: np.diag)"
      ]
    },
    {
      "cell_type": "code",
      "execution_count": null,
      "metadata": {
        "id": "QwsX-IH-4RL3",
        "outputId": "29484bea-5347-4359-9dd0-7a5985d008f6",
        "colab": {
          "base_uri": "https://localhost:8080/"
        }
      },
      "outputs": [
        {
          "output_type": "stream",
          "name": "stdout",
          "text": [
            "[[0 0 0 0 0]\n",
            " [1 0 0 0 0]\n",
            " [0 2 0 0 0]\n",
            " [0 0 3 0 0]\n",
            " [0 0 0 4 0]]\n"
          ]
        }
      ],
      "source": [
        "z = np.diag(1+np.arange(4),k=-1)\n",
        "print(z)"
      ]
    },
    {
      "cell_type": "markdown",
      "metadata": {
        "id": "jqsMHPGt4RL3"
      },
      "source": [
        "#### 19. Create a 8x8 matrix and fill it with a checkerboard pattern (★☆☆) \n",
        "(**hint**: array\\[::2\\])"
      ]
    },
    {
      "cell_type": "code",
      "execution_count": null,
      "metadata": {
        "id": "cC7TCeIu4RL4",
        "outputId": "717af70e-5109-4bad-f651-a7312e259100",
        "colab": {
          "base_uri": "https://localhost:8080/"
        }
      },
      "outputs": [
        {
          "output_type": "stream",
          "name": "stdout",
          "text": [
            "[[1. 0. 1. 0. 1. 0. 1. 0.]\n",
            " [0. 1. 0. 1. 0. 1. 0. 1.]\n",
            " [1. 0. 1. 0. 1. 0. 1. 0.]\n",
            " [0. 1. 0. 1. 0. 1. 0. 1.]\n",
            " [1. 0. 1. 0. 1. 0. 1. 0.]\n",
            " [0. 1. 0. 1. 0. 1. 0. 1.]\n",
            " [1. 0. 1. 0. 1. 0. 1. 0.]\n",
            " [0. 1. 0. 1. 0. 1. 0. 1.]]\n"
          ]
        }
      ],
      "source": [
        "z=np.zeros((8,8))\n",
        "z[::2,::2]=1\n",
        "z[1::2,1::2]=1\n",
        "print(z)"
      ]
    },
    {
      "cell_type": "markdown",
      "metadata": {
        "id": "0ZAKjvaB4RL4"
      },
      "source": [
        "#### 20. Consider a (6,7,8) shape array, what is the index (x,y,z) of the 100th element? \n",
        "(**hint**: np.unravel_index)"
      ]
    },
    {
      "cell_type": "code",
      "execution_count": null,
      "metadata": {
        "id": "1W1zJoj24RL4",
        "outputId": "190168af-85a9-42f8-b465-9bdffb08d572",
        "colab": {
          "base_uri": "https://localhost:8080/"
        }
      },
      "outputs": [
        {
          "output_type": "stream",
          "name": "stdout",
          "text": [
            "(1, 5, 4)\n"
          ]
        }
      ],
      "source": [
        "print(np.unravel_index(100,(6,7,8)))"
      ]
    },
    {
      "cell_type": "markdown",
      "metadata": {
        "id": "6jW-NbrL4RL4"
      },
      "source": [
        "#### 21. Create a checkerboard 8x8 matrix using the tile function (★☆☆) \n",
        "(**hint**: np.tile)"
      ]
    },
    {
      "cell_type": "code",
      "execution_count": null,
      "metadata": {
        "id": "oulqgKPa4RL5",
        "outputId": "8caea9d8-8629-480d-c7aa-66e41d22dd3f",
        "colab": {
          "base_uri": "https://localhost:8080/"
        }
      },
      "outputs": [
        {
          "output_type": "stream",
          "name": "stdout",
          "text": [
            "[[0 1]\n",
            " [1 0]]\n",
            "[[0 1 0 1 0 1 0 1]\n",
            " [1 0 1 0 1 0 1 0]\n",
            " [0 1 0 1 0 1 0 1]\n",
            " [1 0 1 0 1 0 1 0]\n",
            " [0 1 0 1 0 1 0 1]\n",
            " [1 0 1 0 1 0 1 0]\n",
            " [0 1 0 1 0 1 0 1]\n",
            " [1 0 1 0 1 0 1 0]]\n"
          ]
        }
      ],
      "source": [
        "z=np.array([[0,1],[1,0]])\n",
        "print(z)\n",
        "x=np.tile(z,(4,4))\n",
        "print(x)"
      ]
    },
    {
      "cell_type": "markdown",
      "metadata": {
        "id": "TPrD2hFi4RL5"
      },
      "source": [
        "#### 22. Normalize a 5x5 random matrix (★☆☆) \n",
        "(**hint**: (x - min) / (max - min))"
      ]
    },
    {
      "cell_type": "code",
      "execution_count": null,
      "metadata": {
        "id": "pS0KDL114RL5",
        "outputId": "4d3fc8cd-0b17-431f-ad1f-076a8471f2d0",
        "colab": {
          "base_uri": "https://localhost:8080/"
        }
      },
      "outputs": [
        {
          "output_type": "stream",
          "name": "stdout",
          "text": [
            "[[ 0.38952429  0.39484459  0.01750444  0.26171634 -0.39189991]\n",
            " [-0.0846911   0.37460559 -0.38250788  0.15495756 -0.43764768]\n",
            " [-0.44430183  0.55569817  0.10898358 -0.42307979  0.54671007]\n",
            " [ 0.18710678 -0.34200604  0.0262822  -0.24255058  0.39600202]\n",
            " [-0.37523503  0.49358727 -0.3299076  -0.32816972 -0.12552575]]\n"
          ]
        }
      ],
      "source": [
        "z=np.random.random((5,5))\n",
        "x=(z-z.mean())/(z.max()-z.min())\n",
        "print(x)"
      ]
    },
    {
      "cell_type": "markdown",
      "metadata": {
        "id": "OA2m5_vg4RL5"
      },
      "source": [
        "#### 23. Create a custom dtype that describes a color as four unsigned bytes (RGBA) (★☆☆) \n",
        "(**hint**: np.dtype)"
      ]
    },
    {
      "cell_type": "code",
      "execution_count": null,
      "metadata": {
        "collapsed": true,
        "id": "CFcgpxBz4RL5",
        "colab": {
          "base_uri": "https://localhost:8080/"
        },
        "outputId": "617a756d-413f-42dc-9bfe-14831df55dd4"
      },
      "outputs": [
        {
          "output_type": "stream",
          "name": "stderr",
          "text": [
            "/usr/local/lib/python3.7/dist-packages/ipykernel_launcher.py:4: FutureWarning: Passing (type, 1) or '1type' as a synonym of type is deprecated; in a future version of numpy, it will be understood as (type, (1,)) / '(1,)type'.\n",
            "  after removing the cwd from sys.path.\n"
          ]
        }
      ],
      "source": [
        "color = np.dtype([(\"R\", np.ubyte, 1),\n",
        "                  (\"G\", np.ubyte, 1),\n",
        "                  (\"B\", np.ubyte, 1),\n",
        "                  (\"A\", np.ubyte, 1)])"
      ]
    },
    {
      "cell_type": "markdown",
      "metadata": {
        "id": "yPxMNjZo4RL6"
      },
      "source": [
        "#### 24. Multiply a 5x3 matrix by a 3x2 matrix (real matrix product) (★☆☆) \n",
        "(**hint**: np.dot | @)"
      ]
    },
    {
      "cell_type": "code",
      "execution_count": null,
      "metadata": {
        "id": "EF2T9JSU4RL6",
        "outputId": "c416642d-a9e6-4684-d74f-fdebad4fcc4a",
        "colab": {
          "base_uri": "https://localhost:8080/"
        }
      },
      "outputs": [
        {
          "output_type": "stream",
          "name": "stdout",
          "text": [
            "[[3. 3.]\n",
            " [3. 3.]\n",
            " [3. 3.]\n",
            " [3. 3.]\n",
            " [3. 3.]]\n"
          ]
        }
      ],
      "source": [
        "z1= np.ones((3,2))\n",
        "z2=np.ones((5,3))\n",
        "print(z2@z1)"
      ]
    },
    {
      "cell_type": "markdown",
      "metadata": {
        "id": "moEoLGnz4RL6"
      },
      "source": [
        "#### 25. Given a 1D array, negate all elements which are between 3 and 8, in place. (★☆☆) \n",
        "(**hint**: >, <=)"
      ]
    },
    {
      "cell_type": "code",
      "execution_count": null,
      "metadata": {
        "id": "qCYc1zpX4RL6",
        "outputId": "8ec35a1a-7611-4ffa-9550-7552fe33ed82",
        "colab": {
          "base_uri": "https://localhost:8080/"
        }
      },
      "outputs": [
        {
          "output_type": "stream",
          "name": "stdout",
          "text": [
            "[ 0  1  2  3 -4 -5 -6 -7 -8  9]\n"
          ]
        }
      ],
      "source": [
        "z=np.arange(10)\n",
        "z[(3<z)&(z<=8)]*=-1\n",
        "print(z)"
      ]
    },
    {
      "cell_type": "markdown",
      "metadata": {
        "id": "m23QCFvo4RL6"
      },
      "source": [
        "#### 26. What is the output of the following script? (★☆☆) \n",
        "(**hint**: np.sum)"
      ]
    },
    {
      "cell_type": "markdown",
      "metadata": {
        "id": "U0ixRVsS4RL6"
      },
      "source": [
        "```python\n",
        "# Author: Jake VanderPlas\n",
        "\n",
        "print(sum(range(5),-1))\n",
        "from numpy import *\n",
        "print(sum(range(5),-1))\n",
        "```"
      ]
    },
    {
      "cell_type": "code",
      "execution_count": null,
      "metadata": {
        "id": "hZxl5BWK4RL6",
        "outputId": "00892002-2c54-4b8d-8faf-823c14a64e45",
        "colab": {
          "base_uri": "https://localhost:8080/"
        }
      },
      "outputs": [
        {
          "output_type": "stream",
          "name": "stdout",
          "text": [
            "10\n"
          ]
        }
      ],
      "source": [
        "\n",
        "from numpy import *\n",
        "print(sum(range(5),-1))"
      ]
    },
    {
      "cell_type": "markdown",
      "metadata": {
        "id": "vKNxXW0d4RL6"
      },
      "source": [
        "#### 27. Consider an integer vector Z, which of these expressions are legal? (★☆☆)"
      ]
    },
    {
      "cell_type": "markdown",
      "metadata": {
        "id": "Sy9pM8mV4RL7"
      },
      "source": [
        "```python\n",
        "Z**Z\n",
        "2 << Z >> 2\n",
        "Z <- Z\n",
        "1j*Z\n",
        "Z/1/1\n",
        "Z<Z>Z\n",
        "```"
      ]
    },
    {
      "cell_type": "code",
      "execution_count": null,
      "metadata": {
        "id": "VFJRlY8H4RL7",
        "outputId": "ebdd9487-5302-4eb8-d6e3-0bfea23becb4",
        "colab": {
          "base_uri": "https://localhost:8080/",
          "height": 208
        }
      },
      "outputs": [
        {
          "output_type": "error",
          "ename": "ValueError",
          "evalue": "ignored",
          "traceback": [
            "\u001b[0;31m---------------------------------------------------------------------------\u001b[0m",
            "\u001b[0;31mValueError\u001b[0m                                Traceback (most recent call last)",
            "\u001b[0;32m<ipython-input-156-4e3654d03fce>\u001b[0m in \u001b[0;36m<module>\u001b[0;34m()\u001b[0m\n\u001b[1;32m      4\u001b[0m \u001b[0;36m1j\u001b[0m\u001b[0;34m*\u001b[0m\u001b[0mZ\u001b[0m\u001b[0;34m\u001b[0m\u001b[0;34m\u001b[0m\u001b[0m\n\u001b[1;32m      5\u001b[0m \u001b[0mZ\u001b[0m\u001b[0;34m/\u001b[0m\u001b[0;36m1\u001b[0m\u001b[0;34m/\u001b[0m\u001b[0;36m1\u001b[0m\u001b[0;34m\u001b[0m\u001b[0;34m\u001b[0m\u001b[0m\n\u001b[0;32m----> 6\u001b[0;31m \u001b[0mZ\u001b[0m\u001b[0;34m<\u001b[0m\u001b[0mZ\u001b[0m\u001b[0;34m>\u001b[0m\u001b[0mZ\u001b[0m\u001b[0;34m\u001b[0m\u001b[0;34m\u001b[0m\u001b[0m\n\u001b[0m",
            "\u001b[0;31mValueError\u001b[0m: The truth value of an array with more than one element is ambiguous. Use a.any() or a.all()"
          ]
        }
      ],
      "source": [
        "Z**Z\n",
        "2 << Z >> 2\n",
        "Z <- Z\n",
        "1j*Z\n",
        "Z/1/1\n",
        "Z<Z>Z"
      ]
    },
    {
      "cell_type": "markdown",
      "metadata": {
        "id": "p3nYRUg84RL7"
      },
      "source": [
        "#### 28. What are the result of the following expressions?"
      ]
    },
    {
      "cell_type": "markdown",
      "metadata": {
        "id": "81E_ayt54RL7"
      },
      "source": [
        "```python\n",
        "np.array(0) / np.array(0)\n",
        "np.array(0) // np.array(0)\n",
        "np.array([np.nan]).astype(int).astype(float)\n",
        "```"
      ]
    },
    {
      "cell_type": "code",
      "execution_count": null,
      "metadata": {
        "id": "p7JP3Yfp4RL7",
        "outputId": "f027ba51-8230-4d54-ea4a-684b54b6ed46",
        "colab": {
          "base_uri": "https://localhost:8080/"
        }
      },
      "outputs": [
        {
          "output_type": "stream",
          "name": "stderr",
          "text": [
            "/usr/local/lib/python3.7/dist-packages/ipykernel_launcher.py:1: RuntimeWarning: invalid value encountered in true_divide\n",
            "  \"\"\"Entry point for launching an IPython kernel.\n",
            "/usr/local/lib/python3.7/dist-packages/ipykernel_launcher.py:2: RuntimeWarning: divide by zero encountered in floor_divide\n",
            "  \n"
          ]
        },
        {
          "output_type": "execute_result",
          "data": {
            "text/plain": [
              "array([-9.22337204e+18])"
            ]
          },
          "metadata": {},
          "execution_count": 157
        }
      ],
      "source": [
        "np.array(0) / np.array(0)\n",
        "np.array(0) // np.array(0)\n",
        "np.array([np.nan]).astype(int).astype(float)"
      ]
    },
    {
      "cell_type": "markdown",
      "metadata": {
        "id": "1sbBTlL14RL7"
      },
      "source": [
        "#### 29. How to round away from zero a float array ? (★☆☆) \n",
        "(**hint**: np.uniform, np.copysign, np.ceil, np.abs)"
      ]
    },
    {
      "cell_type": "code",
      "execution_count": null,
      "metadata": {
        "id": "X9LnHm5M4RL8",
        "outputId": "3dc139c1-9093-4c20-d63f-68bc2f365771",
        "colab": {
          "base_uri": "https://localhost:8080/"
        }
      },
      "outputs": [
        {
          "output_type": "stream",
          "name": "stdout",
          "text": [
            "[-5.40621696e-03 -9.89008884e+00  2.39645660e-02  9.04154505e+00\n",
            "  6.04765572e-01  2.87352289e+00  6.32035661e+00 -8.12357669e+00\n",
            "  7.19353896e+00  9.91288120e+00]\n",
            "[ -1. -10.   1.  10.   1.   3.   7.  -9.   8.  10.]\n"
          ]
        }
      ],
      "source": [
        "z= np.random.uniform(-10,10,10)\n",
        "print(z)\n",
        "print (np.copysign(np.ceil(np.abs(z)), z))"
      ]
    },
    {
      "cell_type": "markdown",
      "metadata": {
        "id": "OQzsCev04RL8"
      },
      "source": [
        "#### 30. How to find common values between two arrays? (★☆☆) \n",
        "(**hint**: np.intersect1d)"
      ]
    },
    {
      "cell_type": "code",
      "execution_count": null,
      "metadata": {
        "id": "uG70eb4q4RL8",
        "outputId": "2e23f7b4-63b7-40a1-9cf8-88bffb919bcd",
        "colab": {
          "base_uri": "https://localhost:8080/"
        }
      },
      "outputs": [
        {
          "output_type": "stream",
          "name": "stdout",
          "text": [
            "[2 4 4 5 7 5 6 5 5 6]\n",
            "[7 3 9 3 7 1 0 4 1 0]\n",
            "[4 7]\n"
          ]
        }
      ],
      "source": [
        "z1 = np.random.randint(0,10,10)\n",
        "print(z1)\n",
        "z2 = np.random.randint(0,10,10)\n",
        "print(z2)\n",
        "print(np.intersect1d(z1,z2))"
      ]
    },
    {
      "cell_type": "markdown",
      "metadata": {
        "id": "mBcWdscS4RL8"
      },
      "source": [
        "#### 31. How to ignore all numpy warnings (not recommended)? (★☆☆) \n",
        "(**hint**: np.seterr, np.errstate)"
      ]
    },
    {
      "cell_type": "code",
      "execution_count": null,
      "metadata": {
        "id": "AnMwuZ3x4RL8"
      },
      "outputs": [],
      "source": [
        "defaults = np.seterr(all=\"ignore\")\n",
        "Z = np.ones(1) / 0\n",
        "_ = np.seterr(**defaults)"
      ]
    },
    {
      "cell_type": "markdown",
      "metadata": {
        "id": "aq_DzO_44RL8"
      },
      "source": [
        "#### 32. Is the following expressions true? (★☆☆) \n",
        "(**hint**: imaginary number)"
      ]
    },
    {
      "cell_type": "markdown",
      "metadata": {
        "id": "Tc7wBa1o4RL8"
      },
      "source": [
        "```python\n",
        "np.sqrt(-1) == np.emath.sqrt(-1)\n",
        "```"
      ]
    },
    {
      "cell_type": "code",
      "execution_count": null,
      "metadata": {
        "id": "8X8_4pyE4RL9",
        "outputId": "295d8249-df19-4046-9976-5f8a339ccf34",
        "colab": {
          "base_uri": "https://localhost:8080/"
        }
      },
      "outputs": [
        {
          "output_type": "stream",
          "name": "stdout",
          "text": [
            "False\n"
          ]
        },
        {
          "output_type": "stream",
          "name": "stderr",
          "text": [
            "/usr/local/lib/python3.7/dist-packages/ipykernel_launcher.py:1: RuntimeWarning: invalid value encountered in sqrt\n",
            "  \"\"\"Entry point for launching an IPython kernel.\n"
          ]
        }
      ],
      "source": [
        "print(np.sqrt(-1) == np.emath.sqrt(-1))"
      ]
    },
    {
      "cell_type": "markdown",
      "metadata": {
        "id": "wRsRe9L24RL9"
      },
      "source": [
        "#### 33. How to get the dates of yesterday, today and tomorrow? (★☆☆) \n",
        "(**hint**: np.datetime64, np.timedelta64)"
      ]
    },
    {
      "cell_type": "code",
      "execution_count": null,
      "metadata": {
        "collapsed": true,
        "id": "cBsxVc0Z4RL9",
        "outputId": "37eebb69-f319-4855-e6bf-042ea77cafae",
        "colab": {
          "base_uri": "https://localhost:8080/"
        }
      },
      "outputs": [
        {
          "output_type": "stream",
          "name": "stdout",
          "text": [
            "2022-02-07\n",
            "2022-02-08\n",
            "2022-02-09\n"
          ]
        }
      ],
      "source": [
        "yesterday = np.datetime64('today', 'D') - np.timedelta64(1, 'D')\n",
        "print(yesterday)\n",
        "today= np.datetime64('today', 'D')\n",
        "print(today)\n",
        "tomorrow  = np.datetime64('today', 'D') + np.timedelta64(1, 'D')\n",
        "print(tomorrow)\n"
      ]
    },
    {
      "cell_type": "markdown",
      "metadata": {
        "id": "eJOngbpv4RL9"
      },
      "source": [
        "#### 34. How to get all the dates corresponding to the month of July 2016? (★★☆) \n",
        "(**hint**: np.arange(dtype=datetime64\\['D'\\]))"
      ]
    },
    {
      "cell_type": "code",
      "execution_count": null,
      "metadata": {
        "id": "ZDOiExGh4RL9",
        "colab": {
          "base_uri": "https://localhost:8080/"
        },
        "outputId": "fb4fc4c9-792b-4cbd-ef1b-e220386ca923"
      },
      "outputs": [
        {
          "output_type": "stream",
          "name": "stdout",
          "text": [
            "['2016-07-01' '2016-07-02' '2016-07-03' '2016-07-04' '2016-07-05'\n",
            " '2016-07-06' '2016-07-07' '2016-07-08' '2016-07-09' '2016-07-10'\n",
            " '2016-07-11' '2016-07-12' '2016-07-13' '2016-07-14' '2016-07-15'\n",
            " '2016-07-16' '2016-07-17' '2016-07-18' '2016-07-19' '2016-07-20'\n",
            " '2016-07-21' '2016-07-22' '2016-07-23' '2016-07-24' '2016-07-25'\n",
            " '2016-07-26' '2016-07-27' '2016-07-28' '2016-07-29' '2016-07-30'\n",
            " '2016-07-31']\n"
          ]
        }
      ],
      "source": [
        "z = np.arange('2016-07', '2016-08', dtype='datetime64[D]')\n",
        "print(z)"
      ]
    },
    {
      "cell_type": "markdown",
      "metadata": {
        "id": "w4z0fSiV4RL9"
      },
      "source": [
        "#### 35. How to compute ((A+B)\\*(-A/2)) in place (without copy)? (★★☆) \n",
        "(**hint**: np.add(out=), np.negative(out=), np.multiply(out=), np.divide(out=))"
      ]
    },
    {
      "cell_type": "code",
      "execution_count": null,
      "metadata": {
        "id": "sT01d4jq4RL9",
        "colab": {
          "base_uri": "https://localhost:8080/"
        },
        "outputId": "2f4b1af1-3115-4c2e-d318-17f07d7c4ac8"
      },
      "outputs": [
        {
          "output_type": "execute_result",
          "data": {
            "text/plain": [
              "array([-1.5, -1.5, -1.5])"
            ]
          },
          "metadata": {},
          "execution_count": 164
        }
      ],
      "source": [
        "A = np.ones(3)*1\n",
        "B = np.ones(3)*2\n",
        "\n",
        "np.add(A,B,out=B)\n",
        "np.divide(A,2,out=A)\n",
        "np.negative(A,out=A)\n",
        "np.multiply(A,B,out=A)"
      ]
    },
    {
      "cell_type": "markdown",
      "metadata": {
        "id": "_ZoUyK8F4RL9"
      },
      "source": [
        "#### 36. Extract the integer part of a random array using 5 different methods (★★☆) \n",
        "(**hint**: %, np.floor, np.ceil, astype, np.trunc)"
      ]
    },
    {
      "cell_type": "code",
      "execution_count": null,
      "metadata": {
        "id": "6vIZ3aqR4RL-",
        "colab": {
          "base_uri": "https://localhost:8080/"
        },
        "outputId": "193bd245-a35d-4854-dc75-1f55c56f255d"
      },
      "outputs": [
        {
          "output_type": "stream",
          "name": "stdout",
          "text": [
            "[4. 3. 0. 9. 5. 3. 2. 7. 6. 9.]\n",
            "[4. 3. 0. 9. 5. 3. 2. 7. 6. 9.]\n",
            "[4. 3. 0. 9. 5. 3. 2. 7. 6. 9.]\n",
            "[4 3 0 9 5 3 2 7 6 9]\n",
            "[4. 3. 0. 9. 5. 3. 2. 7. 6. 9.]\n"
          ]
        }
      ],
      "source": [
        "z = np.random.uniform(0,10,10)\n",
        "\n",
        "print (z - z%1)\n",
        "print (np.floor(z))\n",
        "print (np.ceil(z)-1)\n",
        "print (z.astype(int))\n",
        "print (np.trunc(z))"
      ]
    },
    {
      "cell_type": "markdown",
      "metadata": {
        "id": "gcfNb3yE4RL-"
      },
      "source": [
        "#### 37. Create a 5x5 matrix with row values ranging from 0 to 4 (★★☆) \n",
        "(**hint**: np.arange)"
      ]
    },
    {
      "cell_type": "code",
      "execution_count": null,
      "metadata": {
        "id": "FmnNWmov4RL-",
        "colab": {
          "base_uri": "https://localhost:8080/"
        },
        "outputId": "28cc3f4a-4029-44e3-9643-f3bc97287bf9"
      },
      "outputs": [
        {
          "output_type": "stream",
          "name": "stdout",
          "text": [
            "[[0. 1. 2. 3. 4.]\n",
            " [0. 1. 2. 3. 4.]\n",
            " [0. 1. 2. 3. 4.]\n",
            " [0. 1. 2. 3. 4.]\n",
            " [0. 1. 2. 3. 4.]]\n"
          ]
        }
      ],
      "source": [
        "z=np.zeros((5,5))\n",
        "z+=np.arange(5)\n",
        "print(z)"
      ]
    },
    {
      "cell_type": "markdown",
      "metadata": {
        "id": "4D2-GdpG4RL-"
      },
      "source": [
        "#### 38. Consider a generator function that generates 10 integers and use it to build an array (★☆☆) \n",
        "(**hint**: np.fromiter)"
      ]
    },
    {
      "cell_type": "code",
      "execution_count": null,
      "metadata": {
        "id": "6RRCztaY4RL-",
        "colab": {
          "base_uri": "https://localhost:8080/"
        },
        "outputId": "a3ad73af-6b27-4e59-a8f0-ae45175ce9cf"
      },
      "outputs": [
        {
          "output_type": "stream",
          "name": "stdout",
          "text": [
            "[0 1 2 3 4 5 6 7 8 9]\n"
          ]
        }
      ],
      "source": [
        "def generator(n):\n",
        "  for x in range(n):\n",
        "\n",
        "    yield x\n",
        "z=np.fromiter(generator(10),dtype=int ,count=-1)\n",
        "print(z)\n"
      ]
    },
    {
      "cell_type": "markdown",
      "metadata": {
        "id": "lKTT8rRO4RL-"
      },
      "source": [
        "#### 39. Create a vector of size 10 with values ranging from 0 to 1, both excluded (★★☆) \n",
        "(**hint**: np.linspace)"
      ]
    },
    {
      "cell_type": "code",
      "execution_count": null,
      "metadata": {
        "id": "WB8Owrlr4RL-",
        "colab": {
          "base_uri": "https://localhost:8080/"
        },
        "outputId": "52f7a598-1dd8-4bed-d46e-52ad1c0ae506"
      },
      "outputs": [
        {
          "output_type": "stream",
          "name": "stdout",
          "text": [
            "[0.1 0.2 0.3 0.4 0.5 0.6 0.7 0.8 0.9]\n"
          ]
        }
      ],
      "source": [
        "z = np.linspace(0,1,11)[1:-1]\n",
        "print(z)"
      ]
    },
    {
      "cell_type": "markdown",
      "metadata": {
        "id": "CFIHgN8f4RL-"
      },
      "source": [
        "#### 40. Create a random vector of size 10 and sort it (★★☆) \n",
        "(**hint**: sort)"
      ]
    },
    {
      "cell_type": "code",
      "execution_count": null,
      "metadata": {
        "id": "Ttsgc-w54RL_",
        "colab": {
          "base_uri": "https://localhost:8080/"
        },
        "outputId": "80beb8f4-f85a-45d0-b667-1ae8e9a86a05"
      },
      "outputs": [
        {
          "output_type": "stream",
          "name": "stdout",
          "text": [
            "[0.01225898 0.08313679 0.14234246 0.47489671 0.53352458 0.57358276\n",
            " 0.79211784 0.80857546 0.84353788 0.97245882]\n"
          ]
        }
      ],
      "source": [
        "z=np.random.random(10)\n",
        "z.sort()\n",
        "print(z)"
      ]
    },
    {
      "cell_type": "markdown",
      "metadata": {
        "id": "Wicc2RGt4RL_"
      },
      "source": [
        "#### 41. How to sum a small array faster than np.sum? (★★☆) \n",
        "(**hint**: np.add.reduce)"
      ]
    },
    {
      "cell_type": "code",
      "execution_count": null,
      "metadata": {
        "id": "0Ox0qitp4RL_",
        "colab": {
          "base_uri": "https://localhost:8080/"
        },
        "outputId": "1e476145-cb3f-43a8-a29a-d817d79d1af1"
      },
      "outputs": [
        {
          "output_type": "execute_result",
          "data": {
            "text/plain": [
              "45"
            ]
          },
          "metadata": {},
          "execution_count": 170
        }
      ],
      "source": [
        "z=np.arange(10)\n",
        "np.add.reduce(z)\n"
      ]
    },
    {
      "cell_type": "markdown",
      "metadata": {
        "id": "FwkXnTh04RMB"
      },
      "source": [
        "#### 42. Consider two random array A and B, check if they are equal (★★☆) \n",
        "(**hint**: np.allclose, np.array\\_equal)"
      ]
    },
    {
      "cell_type": "code",
      "execution_count": null,
      "metadata": {
        "id": "79PoGE214RMC",
        "colab": {
          "base_uri": "https://localhost:8080/"
        },
        "outputId": "79c64a91-05ed-4fda-a979-f109593b1971"
      },
      "outputs": [
        {
          "output_type": "stream",
          "name": "stdout",
          "text": [
            "[1 0 0 0 1] [1 0 0 1 1]\n",
            "False\n"
          ]
        }
      ],
      "source": [
        "A = np.random.randint(0,2,5)\n",
        "B = np.random.randint(0,2,5)\n",
        "print(A,B)\n",
        "print(np.allclose(A,B))"
      ]
    },
    {
      "cell_type": "markdown",
      "metadata": {
        "id": "syTWIKVW4RMC"
      },
      "source": [
        "#### 43. Make an array immutable (read-only) (★★☆) \n",
        "(**hint**: flags.writeable)"
      ]
    },
    {
      "cell_type": "code",
      "execution_count": null,
      "metadata": {
        "id": "uWVcw5XI4RMC",
        "colab": {
          "base_uri": "https://localhost:8080/",
          "height": 208
        },
        "outputId": "f851fa11-2199-4218-a4b1-8d68923915b2"
      },
      "outputs": [
        {
          "output_type": "error",
          "ename": "ValueError",
          "evalue": "ignored",
          "traceback": [
            "\u001b[0;31m---------------------------------------------------------------------------\u001b[0m",
            "\u001b[0;31mValueError\u001b[0m                                Traceback (most recent call last)",
            "\u001b[0;32m<ipython-input-172-e7ca576a283b>\u001b[0m in \u001b[0;36m<module>\u001b[0;34m()\u001b[0m\n\u001b[1;32m      1\u001b[0m \u001b[0mz\u001b[0m \u001b[0;34m=\u001b[0m \u001b[0mnp\u001b[0m\u001b[0;34m.\u001b[0m\u001b[0mzeros\u001b[0m\u001b[0;34m(\u001b[0m\u001b[0;36m10\u001b[0m\u001b[0;34m)\u001b[0m\u001b[0;34m\u001b[0m\u001b[0;34m\u001b[0m\u001b[0m\n\u001b[1;32m      2\u001b[0m \u001b[0mz\u001b[0m\u001b[0;34m.\u001b[0m\u001b[0mflags\u001b[0m\u001b[0;34m.\u001b[0m\u001b[0mwriteable\u001b[0m \u001b[0;34m=\u001b[0m \u001b[0;32mFalse\u001b[0m\u001b[0;34m\u001b[0m\u001b[0;34m\u001b[0m\u001b[0m\n\u001b[0;32m----> 3\u001b[0;31m \u001b[0mz\u001b[0m\u001b[0;34m[\u001b[0m\u001b[0;36m0\u001b[0m\u001b[0;34m]\u001b[0m \u001b[0;34m=\u001b[0m \u001b[0;36m1\u001b[0m\u001b[0;34m\u001b[0m\u001b[0;34m\u001b[0m\u001b[0m\n\u001b[0m",
            "\u001b[0;31mValueError\u001b[0m: assignment destination is read-only"
          ]
        }
      ],
      "source": [
        "z = np.zeros(10)\n",
        "z.flags.writeable = False\n",
        "z[0] = 1"
      ]
    },
    {
      "cell_type": "markdown",
      "metadata": {
        "id": "buLD1Ofu4RMD"
      },
      "source": [
        "#### 44. Consider a random 10x2 matrix representing cartesian coordinates, convert them to polar coordinates (★★☆) \n",
        "(**hint**: np.sqrt, np.arctan2)"
      ]
    },
    {
      "cell_type": "code",
      "execution_count": null,
      "metadata": {
        "id": "OVjslkL14RMD",
        "colab": {
          "base_uri": "https://localhost:8080/"
        },
        "outputId": "a7ff6d97-aa56-4fef-d197-7874d5319a6e"
      },
      "outputs": [
        {
          "output_type": "stream",
          "name": "stdout",
          "text": [
            "[[0.16938796 0.20255923]\n",
            " [0.29094977 0.48572708]\n",
            " [0.21474695 0.71465191]\n",
            " [0.74900987 0.18127804]\n",
            " [0.96008276 0.71023904]\n",
            " [0.71539276 0.32430028]\n",
            " [0.28298395 0.50245812]\n",
            " [0.88080379 0.84281889]\n",
            " [0.21060913 0.37881705]\n",
            " [0.96808918 0.00637739]]\n",
            "[0.16938796 0.29094977 0.21474695 0.74900987 0.96008276 0.71539276\n",
            " 0.28298395 0.88080379 0.21060913 0.96808918]\n",
            "[0.20255923 0.48572708 0.71465191 0.18127804 0.71023904 0.32430028\n",
            " 0.50245812 0.84281889 0.37881705 0.00637739]\n",
            "[0.26405022 0.56620011 0.74621954 0.77063449 1.19423549 0.7854664\n",
            " 0.57666635 1.21908121 0.43342654 0.96811019]\n",
            "[0.87434559 1.03111359 1.27888852 0.23745745 0.63692076 0.4256096\n",
            " 1.05787597 0.7633639  1.06338479 0.00658751]\n"
          ]
        }
      ],
      "source": [
        "z = np.random.random((10,2))\n",
        "print(z)\n",
        "X,Y = z[:,0], z[:,1]\n",
        "print(X)\n",
        "print(Y)\n",
        "R = np.sqrt(X**2+Y**2)\n",
        "T = np.arctan2(Y,X)\n",
        "print(R)\n",
        "print(T)"
      ]
    },
    {
      "cell_type": "markdown",
      "metadata": {
        "id": "nCfpA8Nx4RMD"
      },
      "source": [
        "#### 45. Create random vector of size 10 and replace the maximum value by 0 (★★☆) \n",
        "(**hint**: argmax)"
      ]
    },
    {
      "cell_type": "code",
      "execution_count": null,
      "metadata": {
        "id": "XhQCrlXt4RMD",
        "colab": {
          "base_uri": "https://localhost:8080/"
        },
        "outputId": "7e169008-4e46-4c61-c850-2df36fb42a11"
      },
      "outputs": [
        {
          "output_type": "stream",
          "name": "stdout",
          "text": [
            "[0.95175885 0.33435109 0.70586075 0.08291242 0.60287601 0.29969261\n",
            " 0.17132328 0.         0.95199408 0.18359275]\n"
          ]
        }
      ],
      "source": [
        "z = np.random.random(10)\n",
        "z[z.argmax()] = 0\n",
        "print(z)"
      ]
    },
    {
      "cell_type": "markdown",
      "metadata": {
        "id": "14QtViJP4RMD"
      },
      "source": [
        "#### 46. Create a structured array with `x` and `y` coordinates covering the \\[0,1\\]x\\[0,1\\] area (★★☆) \n",
        "(**hint**: np.meshgrid)"
      ]
    },
    {
      "cell_type": "code",
      "execution_count": null,
      "metadata": {
        "id": "XdKll0Li4RME",
        "colab": {
          "base_uri": "https://localhost:8080/"
        },
        "outputId": "6158598d-47fd-4fe8-d72b-7d52b5fa6b7a"
      },
      "outputs": [
        {
          "output_type": "stream",
          "name": "stdout",
          "text": [
            "[[(0.  , 0.  ) (0.25, 0.  ) (0.5 , 0.  ) (0.75, 0.  ) (1.  , 0.  )]\n",
            " [(0.  , 0.25) (0.25, 0.25) (0.5 , 0.25) (0.75, 0.25) (1.  , 0.25)]\n",
            " [(0.  , 0.5 ) (0.25, 0.5 ) (0.5 , 0.5 ) (0.75, 0.5 ) (1.  , 0.5 )]\n",
            " [(0.  , 0.75) (0.25, 0.75) (0.5 , 0.75) (0.75, 0.75) (1.  , 0.75)]\n",
            " [(0.  , 1.  ) (0.25, 1.  ) (0.5 , 1.  ) (0.75, 1.  ) (1.  , 1.  )]]\n"
          ]
        }
      ],
      "source": [
        "z = np.zeros((5,5), [('x',float),('y',float)])\n",
        "z['x'], z['y'] = np.meshgrid(np.linspace(0,1,5),np.linspace(0,1,5))\n",
        "print(z)"
      ]
    },
    {
      "cell_type": "markdown",
      "metadata": {
        "id": "-n1pYWKg4RMF"
      },
      "source": [
        "####  47. Given two arrays, X and Y, construct the Cauchy matrix C (Cij =1/(xi - yj)) \n",
        "(**hint**: np.subtract.outer)"
      ]
    },
    {
      "cell_type": "code",
      "execution_count": null,
      "metadata": {
        "id": "jAPvyQO94RMF",
        "colab": {
          "base_uri": "https://localhost:8080/"
        },
        "outputId": "098ce90f-9b0e-4d4a-a44e-8ecc97e2d3b5"
      },
      "outputs": [
        {
          "output_type": "stream",
          "name": "stdout",
          "text": [
            "3638.1636371179666\n"
          ]
        }
      ],
      "source": [
        "X = np.arange(8)\n",
        "Y = X + 0.5\n",
        "C = 1.0 / np.subtract.outer(X, Y)\n",
        "print(np.linalg.det(C))"
      ]
    },
    {
      "cell_type": "markdown",
      "metadata": {
        "id": "E6ZBnFNK4RMH"
      },
      "source": [
        "#### 48. Print the minimum and maximum representable value for each numpy scalar type (★★☆) \n",
        "(**hint**: np.iinfo, np.finfo, eps)"
      ]
    },
    {
      "cell_type": "code",
      "execution_count": null,
      "metadata": {
        "id": "zh7W-Kk_4RMH",
        "colab": {
          "base_uri": "https://localhost:8080/"
        },
        "outputId": "d2088d10-4f34-4935-88d1-0e2f0d3cd28c"
      },
      "outputs": [
        {
          "output_type": "stream",
          "name": "stdout",
          "text": [
            "-128\n",
            "127\n",
            "-2147483648\n",
            "2147483647\n",
            "-9223372036854775808\n",
            "9223372036854775807\n",
            "-3.4028235e+38\n",
            "3.4028235e+38\n",
            "1.1920929e-07\n",
            "-1.7976931348623157e+308\n",
            "1.7976931348623157e+308\n",
            "2.220446049250313e-16\n"
          ]
        }
      ],
      "source": [
        "for dtype in [np.int8, np.int32, np.int64]:\n",
        "   print(np.iinfo(dtype).min)\n",
        "   print(np.iinfo(dtype).max)\n",
        "for dtype in [np.float32, np.float64]:\n",
        "   print(np.finfo(dtype).min)\n",
        "   print(np.finfo(dtype).max)\n",
        "   print(np.finfo(dtype).eps)"
      ]
    },
    {
      "cell_type": "markdown",
      "metadata": {
        "id": "cXYBw70l4RMH"
      },
      "source": [
        "#### 49. How to print all the values of an array? (★★☆) \n",
        "(**hint**: np.set\\_printoptions)"
      ]
    },
    {
      "cell_type": "code",
      "execution_count": null,
      "metadata": {
        "id": "qZqp64Nh4RMH"
      },
      "outputs": [],
      "source": [
        "np.set_printoptions(threshold=np.nan)\n",
        "z = np.zeros((16,16))\n",
        "print(z)\n"
      ]
    },
    {
      "cell_type": "markdown",
      "metadata": {
        "id": "xuYWGb3y4RMI"
      },
      "source": [
        "#### 50. How to find the closest value (to a given scalar) in a vector? (★★☆) \n",
        "(**hint**: argmin)"
      ]
    },
    {
      "cell_type": "code",
      "execution_count": null,
      "metadata": {
        "id": "Nj4PR8-C4RMI",
        "colab": {
          "base_uri": "https://localhost:8080/"
        },
        "outputId": "59a419dd-67c8-4f27-8a3f-dcf5d9b55ff4"
      },
      "outputs": [
        {
          "output_type": "stream",
          "name": "stdout",
          "text": [
            "74\n"
          ]
        }
      ],
      "source": [
        "z = np.arange(100)\n",
        "v = np.random.uniform(0,100)\n",
        "\n",
        "index = (np.abs(z-v)).argmin()\n",
        "print(z[index])"
      ]
    },
    {
      "cell_type": "markdown",
      "metadata": {
        "id": "JPOiQvPp4RMI"
      },
      "source": [
        "#### 51. Create a structured array representing a position (x,y) and a color (r,g,b) (★★☆) \n",
        "(**hint**: dtype)"
      ]
    },
    {
      "cell_type": "code",
      "execution_count": null,
      "metadata": {
        "id": "tF-07FyB4RMI",
        "colab": {
          "base_uri": "https://localhost:8080/"
        },
        "outputId": "4bb06117-7435-4099-b6d0-f083b47a11e5"
      },
      "outputs": [
        {
          "output_type": "stream",
          "name": "stdout",
          "text": [
            "[((0., 0.), (0., 0., 0.)) ((0., 0.), (0., 0., 0.))\n",
            " ((0., 0.), (0., 0., 0.)) ((0., 0.), (0., 0., 0.))\n",
            " ((0., 0.), (0., 0., 0.)) ((0., 0.), (0., 0., 0.))\n",
            " ((0., 0.), (0., 0., 0.)) ((0., 0.), (0., 0., 0.))\n",
            " ((0., 0.), (0., 0., 0.)) ((0., 0.), (0., 0., 0.))]\n"
          ]
        },
        {
          "output_type": "stream",
          "name": "stderr",
          "text": [
            "/usr/local/lib/python3.7/dist-packages/ipykernel_launcher.py:5: FutureWarning: Passing (type, 1) or '1type' as a synonym of type is deprecated; in a future version of numpy, it will be understood as (type, (1,)) / '(1,)type'.\n",
            "  \"\"\"\n"
          ]
        }
      ],
      "source": [
        "Z = np.zeros(10, [ ('position', [ ('x', float, 1),\n",
        "                                  ('y', float, 1)]),\n",
        "                   ('color',    [ ('r', float, 1),\n",
        "                                  ('g', float, 1),\n",
        "                                  ('b', float, 1)])])\n",
        "print(Z)"
      ]
    },
    {
      "cell_type": "markdown",
      "metadata": {
        "id": "V_ZSmFbi4RMJ"
      },
      "source": [
        "#### 52. Consider a random vector with shape (100,2) representing coordinates, find point by point distances (★★☆) \n",
        "(**hint**: np.atleast\\_2d, T, np.sqrt)"
      ]
    },
    {
      "cell_type": "code",
      "execution_count": null,
      "metadata": {
        "id": "1wKQ678y4RMJ",
        "colab": {
          "base_uri": "https://localhost:8080/"
        },
        "outputId": "f659faba-27e2-4d9d-9153-2d8120656a2c"
      },
      "outputs": [
        {
          "output_type": "stream",
          "name": "stdout",
          "text": [
            "[[0.         0.38988504 0.75403057 0.49806992 0.3569622  0.42758938\n",
            "  0.49102704 0.51331062 0.49759798 0.4522655 ]\n",
            " [0.38988504 0.         1.1310768  0.29779094 0.73729944 0.65857442\n",
            "  0.60250829 0.87987961 0.28548342 0.12714129]\n",
            " [0.75403057 1.1310768  0.         1.23639902 0.39707362 0.87255428\n",
            "  1.04631286 0.25667137 1.23877659 1.20591502]\n",
            " [0.49806992 0.29779094 1.23639902 0.         0.84440829 0.53767955\n",
            "  0.40860034 1.00725765 0.01536431 0.18317399]\n",
            " [0.3569622  0.73729944 0.39707362 0.84440829 0.         0.56228923\n",
            "  0.71047174 0.16732522 0.84588552 0.80891648]\n",
            " [0.42758938 0.65857442 0.87255428 0.53767955 0.56228923 0.\n",
            "  0.18424161 0.71812913 0.54882389 0.63362758]\n",
            " [0.49102704 0.60250829 1.04631286 0.40860034 0.71047174 0.18424161\n",
            "  0.         0.87357276 0.42223514 0.54419996]\n",
            " [0.51331062 0.87987961 0.25667137 1.00725765 0.16732522 0.71812913\n",
            "  0.87357276 0.         1.00807421 0.96099834]\n",
            " [0.49759798 0.28548342 1.23877659 0.01536431 0.84588552 0.54882389\n",
            "  0.42223514 1.00807421 0.         0.16906434]\n",
            " [0.4522655  0.12714129 1.20591502 0.18317399 0.80891648 0.63362758\n",
            "  0.54419996 0.96099834 0.16906434 0.        ]]\n"
          ]
        }
      ],
      "source": [
        "z = np.random.random((10,2))\n",
        "X,Y = np.atleast_2d(z[:,0], z[:,1])\n",
        "D = np.sqrt( (X-X.T)**2 + (Y-Y.T)**2)\n",
        "print(D)"
      ]
    },
    {
      "cell_type": "markdown",
      "metadata": {
        "id": "K1SjQzQw4RMJ"
      },
      "source": [
        "#### 53. How to convert a float (32 bits) array into an integer (32 bits) in place? \n",
        "(**hint**: astype(copy=False))"
      ]
    },
    {
      "cell_type": "code",
      "execution_count": null,
      "metadata": {
        "id": "IN2Y7bdR4RMJ",
        "colab": {
          "base_uri": "https://localhost:8080/"
        },
        "outputId": "27c7f098-4b76-4704-9775-2eba8fef663f"
      },
      "outputs": [
        {
          "output_type": "stream",
          "name": "stdout",
          "text": [
            "[0. 1. 2. 3. 4. 5. 6. 7. 8. 9.]\n",
            "[0 1 2 3 4 5 6 7 8 9]\n"
          ]
        }
      ],
      "source": [
        "z = np.arange(10, dtype=np.float32)\n",
        "print(z)\n",
        "z = z.astype(np.int32, copy=False)\n",
        "print(z)"
      ]
    },
    {
      "cell_type": "markdown",
      "metadata": {
        "id": "mURSI61r4RMJ"
      },
      "source": [
        "#### 54. How to read the following file? (★★☆) \n",
        "(**hint**: np.genfromtxt)"
      ]
    },
    {
      "cell_type": "markdown",
      "metadata": {
        "id": "T9lmlzZU4RMK"
      },
      "source": [
        "```\n",
        "1, 2, 3, 4, 5\n",
        "6,  ,  , 7, 8\n",
        " ,  , 9,10,11\n",
        "```"
      ]
    },
    {
      "cell_type": "code",
      "execution_count": null,
      "metadata": {
        "id": "PIpvaB8H4RMK",
        "colab": {
          "base_uri": "https://localhost:8080/"
        },
        "outputId": "4af8327c-a71d-4442-d51d-4e530c8d15f9"
      },
      "outputs": [
        {
          "output_type": "stream",
          "name": "stdout",
          "text": [
            "[[ 1  2  3  4  5]\n",
            " [ 6 -1 -1  7  8]\n",
            " [-1 -1  9 10 11]]\n"
          ]
        }
      ],
      "source": [
        "from io import StringIO\n",
        "\n",
        "s = StringIO(\"\"\"1, 2, 3, 4, 5\\n\n",
        "                6,  ,  , 7, 8\\n\n",
        "                 ,  , 9,10,11\\n\"\"\")\n",
        "z = np.genfromtxt(s, delimiter=\",\", dtype=np.int)\n",
        "print(z)"
      ]
    },
    {
      "cell_type": "markdown",
      "metadata": {
        "id": "WWwhUGNP4RMK"
      },
      "source": [
        "#### 55. What is the equivalent of enumerate for numpy arrays? (★★☆) \n",
        "(**hint**: np.ndenumerate, np.ndindex)"
      ]
    },
    {
      "cell_type": "code",
      "execution_count": null,
      "metadata": {
        "id": "oCkK1naG4RML",
        "colab": {
          "base_uri": "https://localhost:8080/"
        },
        "outputId": "e4bebe28-d115-4d54-db0f-9ccf4564fb2f"
      },
      "outputs": [
        {
          "output_type": "stream",
          "name": "stdout",
          "text": [
            "(0, 0) 0\n",
            "(0, 1) 1\n",
            "(0, 2) 2\n",
            "(1, 0) 3\n",
            "(1, 1) 4\n",
            "(1, 2) 5\n",
            "(2, 0) 6\n",
            "(2, 1) 7\n",
            "(2, 2) 8\n",
            "(0, 0) 0\n",
            "(0, 1) 1\n",
            "(0, 2) 2\n",
            "(1, 0) 3\n",
            "(1, 1) 4\n",
            "(1, 2) 5\n",
            "(2, 0) 6\n",
            "(2, 1) 7\n",
            "(2, 2) 8\n"
          ]
        }
      ],
      "source": [
        "z = np.arange(9).reshape(3,3)\n",
        "for index, value in np.ndenumerate(z):\n",
        "    print(index, value)\n",
        "for index in np.ndindex(z.shape):\n",
        "    print(index, z[index])"
      ]
    },
    {
      "cell_type": "markdown",
      "metadata": {
        "id": "aGCp2m9L4RML"
      },
      "source": [
        "#### 56. Generate a generic 2D Gaussian-like array (★★☆) \n",
        "(**hint**: np.meshgrid, np.exp)"
      ]
    },
    {
      "cell_type": "code",
      "execution_count": null,
      "metadata": {
        "id": "11hKT7H-4RML",
        "colab": {
          "base_uri": "https://localhost:8080/"
        },
        "outputId": "41640844-d6df-42cb-bc78-a37b0a52df16"
      },
      "outputs": [
        {
          "output_type": "stream",
          "name": "stdout",
          "text": [
            "[[0.36787944 0.44822088 0.51979489 0.57375342 0.60279818 0.60279818\n",
            "  0.57375342 0.51979489 0.44822088 0.36787944]\n",
            " [0.44822088 0.54610814 0.63331324 0.69905581 0.73444367 0.73444367\n",
            "  0.69905581 0.63331324 0.54610814 0.44822088]\n",
            " [0.51979489 0.63331324 0.73444367 0.81068432 0.85172308 0.85172308\n",
            "  0.81068432 0.73444367 0.63331324 0.51979489]\n",
            " [0.57375342 0.69905581 0.81068432 0.89483932 0.9401382  0.9401382\n",
            "  0.89483932 0.81068432 0.69905581 0.57375342]\n",
            " [0.60279818 0.73444367 0.85172308 0.9401382  0.98773022 0.98773022\n",
            "  0.9401382  0.85172308 0.73444367 0.60279818]\n",
            " [0.60279818 0.73444367 0.85172308 0.9401382  0.98773022 0.98773022\n",
            "  0.9401382  0.85172308 0.73444367 0.60279818]\n",
            " [0.57375342 0.69905581 0.81068432 0.89483932 0.9401382  0.9401382\n",
            "  0.89483932 0.81068432 0.69905581 0.57375342]\n",
            " [0.51979489 0.63331324 0.73444367 0.81068432 0.85172308 0.85172308\n",
            "  0.81068432 0.73444367 0.63331324 0.51979489]\n",
            " [0.44822088 0.54610814 0.63331324 0.69905581 0.73444367 0.73444367\n",
            "  0.69905581 0.63331324 0.54610814 0.44822088]\n",
            " [0.36787944 0.44822088 0.51979489 0.57375342 0.60279818 0.60279818\n",
            "  0.57375342 0.51979489 0.44822088 0.36787944]]\n"
          ]
        }
      ],
      "source": [
        "X, Y = np.meshgrid(np.linspace(-1,1,10), np.linspace(-1,1,10))\n",
        "D = np.sqrt(X*X+Y*Y)\n",
        "sigma, mu = 1.0, 0.0\n",
        "G = np.exp(-( (D-mu)**2 / ( 2.0 * sigma**2 ) ) )\n",
        "print(G)"
      ]
    },
    {
      "cell_type": "markdown",
      "metadata": {
        "id": "-YYCvvFL4RML"
      },
      "source": [
        "#### 57. How to randomly place p elements in a 2D array? (★★☆) \n",
        "(**hint**: np.put, np.random.choice)"
      ]
    },
    {
      "cell_type": "code",
      "execution_count": null,
      "metadata": {
        "id": "NoptWqIT4RML",
        "colab": {
          "base_uri": "https://localhost:8080/"
        },
        "outputId": "f2574df0-0245-4610-93dd-fea19a700262"
      },
      "outputs": [
        {
          "output_type": "stream",
          "name": "stdout",
          "text": [
            "[[0. 0. 0. 0. 0. 0. 0. 0. 0. 0.]\n",
            " [0. 0. 0. 0. 0. 0. 1. 0. 0. 0.]\n",
            " [0. 0. 0. 0. 0. 0. 0. 0. 0. 0.]\n",
            " [0. 0. 0. 0. 0. 0. 0. 0. 0. 0.]\n",
            " [0. 0. 0. 0. 0. 0. 0. 0. 0. 0.]\n",
            " [0. 0. 0. 0. 0. 0. 1. 0. 0. 0.]\n",
            " [0. 0. 0. 0. 0. 0. 0. 0. 0. 0.]\n",
            " [0. 0. 0. 0. 0. 0. 0. 0. 0. 0.]\n",
            " [0. 0. 0. 0. 0. 0. 0. 0. 0. 0.]\n",
            " [0. 0. 1. 0. 0. 0. 0. 0. 0. 0.]]\n"
          ]
        }
      ],
      "source": [
        "n = 10\n",
        "p = 3\n",
        "z = np.zeros((n,n))\n",
        "np.put(z, np.random.choice(range(n*n), p, replace=False),1)\n",
        "print(z)"
      ]
    },
    {
      "cell_type": "markdown",
      "metadata": {
        "id": "-8BvEyNw4RMM"
      },
      "source": [
        "#### 58. Subtract the mean of each row of a matrix (★★☆) \n",
        "(**hint**: mean(axis=,keepdims=))"
      ]
    },
    {
      "cell_type": "code",
      "execution_count": null,
      "metadata": {
        "id": "eykdr8wQ4RMM",
        "colab": {
          "base_uri": "https://localhost:8080/"
        },
        "outputId": "b65c945d-3e98-4c28-c5d8-0b080d9ba670"
      },
      "outputs": [
        {
          "output_type": "stream",
          "name": "stdout",
          "text": [
            "[[-0.34934588  0.33857077 -0.16568495  0.17823049  0.00576652  0.00198562\n",
            "   0.05904428  0.17334891  0.027255   -0.26917077]\n",
            " [ 0.41120776 -0.32259909  0.07837308 -0.1822426  -0.50466028  0.18399229\n",
            "  -0.48599974  0.25988016  0.36802982  0.1940186 ]\n",
            " [-0.1366087   0.2927044  -0.07117072  0.05741753 -0.07580753 -0.52932565\n",
            "   0.0710534   0.39843091  0.08854744 -0.09524108]\n",
            " [ 0.22161777 -0.10222505  0.08123261 -0.03208438 -0.15391595 -0.39759699\n",
            "   0.12887197  0.23781538  0.09848617 -0.08220152]\n",
            " [ 0.34839281 -0.1925465  -0.0896077  -0.00559597 -0.46453278  0.03422683\n",
            "  -0.1716852   0.21361668  0.16178238  0.16594946]]\n"
          ]
        }
      ],
      "source": [
        "X = np.random.rand(5, 10)\n",
        "\n",
        "\n",
        "Y = X - X.mean(axis=1, keepdims=True)\n",
        "\n",
        "\n",
        "Y = X - X.mean(axis=1).reshape(-1, 1)\n",
        "\n",
        "print(Y)"
      ]
    },
    {
      "cell_type": "markdown",
      "metadata": {
        "id": "pFFUp0oh4RMM"
      },
      "source": [
        "#### 59. How to sort an array by the nth column? (★★☆) \n",
        "(**hint**: argsort)"
      ]
    },
    {
      "cell_type": "code",
      "execution_count": null,
      "metadata": {
        "id": "Ytmpd5CC4RMM",
        "colab": {
          "base_uri": "https://localhost:8080/"
        },
        "outputId": "f6128701-ce71-4214-8284-2560f0dc1f65"
      },
      "outputs": [
        {
          "output_type": "stream",
          "name": "stdout",
          "text": [
            "[[9 8 4]\n",
            " [9 1 6]\n",
            " [7 8 0]]\n",
            "[[9 1 6]\n",
            " [9 8 4]\n",
            " [7 8 0]]\n"
          ]
        }
      ],
      "source": [
        "z = np.random.randint(0,10,(3,3))\n",
        "print(z)\n",
        "print(z[z[:,1].argsort()])"
      ]
    },
    {
      "cell_type": "markdown",
      "metadata": {
        "id": "EAnnNelo4RMM"
      },
      "source": [
        "#### 60. How to tell if a given 2D array has null columns? (★★☆) \n",
        "(**hint**: any, ~)"
      ]
    },
    {
      "cell_type": "code",
      "execution_count": null,
      "metadata": {
        "id": "5bP2WNy14RMM",
        "colab": {
          "base_uri": "https://localhost:8080/"
        },
        "outputId": "f85504a4-e38a-433c-adb0-649ef6e4bcfd"
      },
      "outputs": [
        {
          "output_type": "stream",
          "name": "stdout",
          "text": [
            "False\n"
          ]
        }
      ],
      "source": [
        "z = np.random.randint(0,3,(3,10))\n",
        "print((~z.any(axis=0)).any())"
      ]
    },
    {
      "cell_type": "markdown",
      "metadata": {
        "id": "vzbIC09M4RMM"
      },
      "source": [
        "#### 61. Find the nearest value from a given value in an array (★★☆) \n",
        "(**hint**: np.abs, argmin, flat)"
      ]
    },
    {
      "cell_type": "code",
      "execution_count": null,
      "metadata": {
        "id": "XsertKsK4RMN",
        "colab": {
          "base_uri": "https://localhost:8080/"
        },
        "outputId": "f07266c6-8caf-484d-e310-82dd948a8c0a"
      },
      "outputs": [
        {
          "output_type": "stream",
          "name": "stdout",
          "text": [
            "0.506020516951095\n"
          ]
        }
      ],
      "source": [
        "z = np.random.uniform(0,1,10)\n",
        "x = 0.5\n",
        "m = z.flat[np.abs(z - x).argmin()]\n",
        "print(m)"
      ]
    },
    {
      "cell_type": "markdown",
      "metadata": {
        "id": "i6skHawn4RMN"
      },
      "source": [
        "#### 62. Considering two arrays with shape (1,3) and (3,1), how to compute their sum using an iterator? (★★☆) \n",
        "(**hint**: np.nditer)"
      ]
    },
    {
      "cell_type": "code",
      "execution_count": null,
      "metadata": {
        "id": "2S9yfwKK4RMN",
        "colab": {
          "base_uri": "https://localhost:8080/"
        },
        "outputId": "51380c05-446b-479c-8106-fbd9ec893beb"
      },
      "outputs": [
        {
          "output_type": "stream",
          "name": "stdout",
          "text": [
            "[[0 1 2]\n",
            " [1 2 3]\n",
            " [2 3 4]]\n"
          ]
        }
      ],
      "source": [
        "A = np.arange(3).reshape(3,1)\n",
        "B = np.arange(3).reshape(1,3)\n",
        "it = np.nditer([A,B,None])\n",
        "for x,y,z in it: z[...] = x + y\n",
        "print(it.operands[2])"
      ]
    },
    {
      "cell_type": "markdown",
      "metadata": {
        "id": "Opu0bcKV4RMN"
      },
      "source": [
        "#### 63. Create an array class that has a name attribute (★★☆) \n",
        "(**hint**: class method)"
      ]
    },
    {
      "cell_type": "code",
      "execution_count": null,
      "metadata": {
        "id": "AX4ZKN3e4RMN",
        "colab": {
          "base_uri": "https://localhost:8080/"
        },
        "outputId": "ebd5fa3e-4053-473e-f2aa-4286199ae41c"
      },
      "outputs": [
        {
          "output_type": "stream",
          "name": "stdout",
          "text": [
            "range_10\n"
          ]
        }
      ],
      "source": [
        "class NamedArray(np.ndarray):\n",
        "    def __new__(cls, array, name=\"no name\"):\n",
        "        obj = np.asarray(array).view(cls)\n",
        "        obj.name = name\n",
        "        return obj\n",
        "    def __array_finalize__(self, obj):\n",
        "        if obj is None: return\n",
        "        self.info = getattr(obj, 'name', \"no name\")\n",
        "\n",
        "z = NamedArray(np.arange(10), \"range_10\")\n",
        "print (z.name)"
      ]
    },
    {
      "cell_type": "markdown",
      "metadata": {
        "id": "M_E-4oDn4RMN"
      },
      "source": [
        "#### 64. Consider a given vector, how to add 1 to each element indexed by a second vector (be careful with repeated indices)? (★★★) \n",
        "(**hint**: np.bincount | np.add.at)"
      ]
    },
    {
      "cell_type": "code",
      "execution_count": null,
      "metadata": {
        "id": "j41iGZs24RMN",
        "colab": {
          "base_uri": "https://localhost:8080/"
        },
        "outputId": "7cdfee6b-9a2c-4e1c-9c3a-688a2b8e9933"
      },
      "outputs": [
        {
          "output_type": "stream",
          "name": "stdout",
          "text": [
            "[4. 1. 5. 2. 2. 4. 3. 4. 3. 2.]\n"
          ]
        }
      ],
      "source": [
        "z = np.ones(10)\n",
        "I = np.random.randint(0,len(z),20)\n",
        "z += np.bincount(I, minlength=len(z))\n",
        "print(z)"
      ]
    },
    {
      "cell_type": "markdown",
      "metadata": {
        "id": "hwx_ujA14RMN"
      },
      "source": [
        "#### 65. How to accumulate elements of a vector (X) to an array (F) based on an index list (I)? (★★★) \n",
        "(**hint**: np.bincount)"
      ]
    },
    {
      "cell_type": "code",
      "execution_count": null,
      "metadata": {
        "id": "I7UKH00W4RMN",
        "colab": {
          "base_uri": "https://localhost:8080/"
        },
        "outputId": "affaebf4-250b-4cb7-fb61-dc11110e1834"
      },
      "outputs": [
        {
          "output_type": "stream",
          "name": "stdout",
          "text": [
            "[0. 7. 0. 6. 5. 0. 0. 0. 0. 3.]\n"
          ]
        }
      ],
      "source": [
        "X = [1,2,3,4,5,6]\n",
        "I = [1,3,9,3,4,1]\n",
        "F = np.bincount(I,X)\n",
        "print(F)"
      ]
    },
    {
      "cell_type": "markdown",
      "metadata": {
        "id": "q6oqiLhn4RMO"
      },
      "source": [
        "#### 66. Considering a (w,h,3) image of (dtype=ubyte), compute the number of unique colors (★★★) \n",
        "(**hint**: np.unique)"
      ]
    },
    {
      "cell_type": "code",
      "execution_count": null,
      "metadata": {
        "id": "VHYqZI924RMO",
        "colab": {
          "base_uri": "https://localhost:8080/"
        },
        "outputId": "95703bd0-9378-4b57-ed4a-c51590999f5c"
      },
      "outputs": [
        {
          "output_type": "stream",
          "name": "stdout",
          "text": [
            "8\n"
          ]
        }
      ],
      "source": [
        "w,h = 16,16\n",
        "I = np.random.randint(0,2,(h,w,3)).astype(np.ubyte)\n",
        "F = I[...,0]*(256*256) + I[...,1]*256 +I[...,2]\n",
        "n = len(np.unique(F))\n",
        "print(n)"
      ]
    },
    {
      "cell_type": "markdown",
      "metadata": {
        "id": "ZHtn73eu4RMO"
      },
      "source": [
        "#### 67. Considering a four dimensions array, how to get sum over the last two axis at once? (★★★) \n",
        "(**hint**: sum(axis=(-2,-1)))"
      ]
    },
    {
      "cell_type": "code",
      "execution_count": null,
      "metadata": {
        "id": "wWjAzUrB4RMP",
        "colab": {
          "base_uri": "https://localhost:8080/"
        },
        "outputId": "3eb95778-1dbf-4117-c127-439fdb725291"
      },
      "outputs": [
        {
          "output_type": "stream",
          "name": "stdout",
          "text": [
            "[[57 60 39 46]\n",
            " [55 30 43 53]\n",
            " [63 51 49 70]]\n"
          ]
        }
      ],
      "source": [
        "A = np.random.randint(0,10,(3,4,3,4))\n",
        "\n",
        "sum = A.sum(axis=(-2,-1))\n",
        "print(sum)\n",
        "\n"
      ]
    },
    {
      "cell_type": "markdown",
      "metadata": {
        "id": "IxkWqZ4O4RMP"
      },
      "source": [
        "#### 68. Considering a one-dimensional vector D, how to compute means of subsets of D using a vector S of same size describing subset  indices? (★★★) \n",
        "(**hint**: np.bincount)"
      ]
    },
    {
      "cell_type": "code",
      "execution_count": null,
      "metadata": {
        "id": "J7ekltl-4RMP",
        "colab": {
          "base_uri": "https://localhost:8080/"
        },
        "outputId": "016228ed-8958-4556-8961-dd45d571bdde"
      },
      "outputs": [
        {
          "output_type": "stream",
          "name": "stdout",
          "text": [
            "[0.40600717 0.44316564 0.40645754 0.64959287 0.52848388 0.55277908\n",
            " 0.3944053  0.47602353 0.5756084  0.5304557 ]\n",
            "0    0.406007\n",
            "1    0.443166\n",
            "2    0.406458\n",
            "3    0.649593\n",
            "4    0.528484\n",
            "5    0.552779\n",
            "6    0.394405\n",
            "7    0.476024\n",
            "8    0.575608\n",
            "9    0.530456\n",
            "dtype: float64\n"
          ]
        }
      ],
      "source": [
        "D = np.random.uniform(0,1,100)\n",
        "S = np.random.randint(0,10,100)\n",
        "D_sums = np.bincount(S, weights=D)\n",
        "D_counts = np.bincount(S)\n",
        "D_means = D_sums / D_counts\n",
        "print(D_means)\n",
        "\n",
        "import pandas as pd\n",
        "print(pd.Series(D).groupby(S).mean())"
      ]
    },
    {
      "cell_type": "markdown",
      "metadata": {
        "id": "Thwa_Zst4RMR"
      },
      "source": [
        "#### 69. How to get the diagonal of a dot product? (★★★) \n",
        "(**hint**: np.diag)"
      ]
    },
    {
      "cell_type": "code",
      "execution_count": null,
      "metadata": {
        "id": "EHsMnwy74RMS",
        "colab": {
          "base_uri": "https://localhost:8080/"
        },
        "outputId": "da84d17d-53d6-4da9-cdf3-827ed3318370"
      },
      "outputs": [
        {
          "output_type": "execute_result",
          "data": {
            "text/plain": [
              "array([1.26794825, 1.23666586, 0.54144003, 0.28580988, 1.63520525])"
            ]
          },
          "metadata": {},
          "execution_count": 198
        }
      ],
      "source": [
        "A = np.random.uniform(0,1,(5,5))\n",
        "B = np.random.uniform(0,1,(5,5))\n",
        "\n",
        "np.diag(np.dot(A, B))\n",
        "np.sum(A * B.T, axis=1)\n",
        "\n",
        "np.einsum(\"ij,ji->i\", A, B)"
      ]
    },
    {
      "cell_type": "markdown",
      "metadata": {
        "id": "QVo4N8u74RMS"
      },
      "source": [
        "#### 70. Consider the vector \\[1, 2, 3, 4, 5\\], how to build a new vector with 3 consecutive zeros interleaved between each value? (★★★) \n",
        "(**hint**: array\\[::4\\])"
      ]
    },
    {
      "cell_type": "code",
      "execution_count": null,
      "metadata": {
        "id": "lAuwT2eA4RMS",
        "colab": {
          "base_uri": "https://localhost:8080/"
        },
        "outputId": "2d1a7c22-a2c9-4ac9-d0d9-1d51f2a3f538"
      },
      "outputs": [
        {
          "output_type": "stream",
          "name": "stdout",
          "text": [
            "[1. 0. 0. 0. 2. 0. 0. 0. 3. 0. 0. 0. 4. 0. 0. 0. 5.]\n"
          ]
        }
      ],
      "source": [
        "z = np.array([1,2,3,4,5])\n",
        "nz = 3\n",
        "Z0 = np.zeros(len(z) + (len(z)-1)*(nz))\n",
        "Z0[::nz+1] = z\n",
        "print(Z0)"
      ]
    },
    {
      "cell_type": "markdown",
      "metadata": {
        "id": "s-obJfwT4RMS"
      },
      "source": [
        "#### 71. Consider an array of dimension (5,5,3), how to mulitply it by an array with dimensions (5,5)? (★★★) \n",
        "(**hint**: array\\[:, :, None\\])"
      ]
    },
    {
      "cell_type": "code",
      "execution_count": null,
      "metadata": {
        "collapsed": true,
        "id": "7vKQmEon4RMS",
        "colab": {
          "base_uri": "https://localhost:8080/"
        },
        "outputId": "676d12f8-9925-4860-cf3b-1bae6942b746"
      },
      "outputs": [
        {
          "output_type": "stream",
          "name": "stdout",
          "text": [
            "[[[2. 2. 2.]\n",
            "  [2. 2. 2.]\n",
            "  [2. 2. 2.]\n",
            "  [2. 2. 2.]\n",
            "  [2. 2. 2.]]\n",
            "\n",
            " [[2. 2. 2.]\n",
            "  [2. 2. 2.]\n",
            "  [2. 2. 2.]\n",
            "  [2. 2. 2.]\n",
            "  [2. 2. 2.]]\n",
            "\n",
            " [[2. 2. 2.]\n",
            "  [2. 2. 2.]\n",
            "  [2. 2. 2.]\n",
            "  [2. 2. 2.]\n",
            "  [2. 2. 2.]]\n",
            "\n",
            " [[2. 2. 2.]\n",
            "  [2. 2. 2.]\n",
            "  [2. 2. 2.]\n",
            "  [2. 2. 2.]\n",
            "  [2. 2. 2.]]\n",
            "\n",
            " [[2. 2. 2.]\n",
            "  [2. 2. 2.]\n",
            "  [2. 2. 2.]\n",
            "  [2. 2. 2.]\n",
            "  [2. 2. 2.]]]\n"
          ]
        }
      ],
      "source": [
        "A = np.ones((5,5,3))\n",
        "B = 2*np.ones((5,5))\n",
        "print(A * B[:,:,None])"
      ]
    },
    {
      "cell_type": "markdown",
      "metadata": {
        "id": "5vqCOc8f4RMS"
      },
      "source": [
        "#### 72. How to swap two rows of an array? (★★★) \n",
        "(**hint**: array\\[\\[\\]\\] = array\\[\\[\\]\\])"
      ]
    },
    {
      "cell_type": "code",
      "execution_count": null,
      "metadata": {
        "id": "sAI2iFH54RMT",
        "colab": {
          "base_uri": "https://localhost:8080/"
        },
        "outputId": "447fa213-ff68-4920-f065-e9586a17f4cb"
      },
      "outputs": [
        {
          "output_type": "stream",
          "name": "stdout",
          "text": [
            "[[ 5  6  7  8  9]\n",
            " [ 0  1  2  3  4]\n",
            " [10 11 12 13 14]\n",
            " [15 16 17 18 19]\n",
            " [20 21 22 23 24]]\n"
          ]
        }
      ],
      "source": [
        "z = np.arange(25).reshape(5,5)\n",
        "z[[0,1]] = z[[1,0]]\n",
        "print(z)"
      ]
    },
    {
      "cell_type": "markdown",
      "metadata": {
        "id": "0kjseqbS4RMT"
      },
      "source": [
        "#### 73. Consider a set of 10 triplets describing 10 triangles (with shared vertices), find the set of unique line segments composing all the  triangles (★★★) \n",
        "(**hint**: repeat, np.roll, np.sort, view, np.unique)"
      ]
    },
    {
      "cell_type": "code",
      "execution_count": null,
      "metadata": {
        "id": "-C2KXGYY4RMT",
        "colab": {
          "base_uri": "https://localhost:8080/"
        },
        "outputId": "2bb1de69-b850-405c-9497-0764d16bd77b"
      },
      "outputs": [
        {
          "output_type": "stream",
          "name": "stdout",
          "text": [
            "[( 1,  5) ( 1, 15) ( 3, 62) ( 3, 72) ( 5, 15) ( 6,  6) ( 6, 19) (14, 24)\n",
            " (14, 28) (24, 28) (28, 71) (28, 97) (30, 30) (30, 49) (32, 44) (32, 57)\n",
            " (33, 73) (33, 77) (38, 64) (38, 77) (44, 57) (62, 72) (64, 77) (67, 96)\n",
            " (67, 98) (71, 97) (73, 77) (96, 98)]\n"
          ]
        }
      ],
      "source": [
        "faces = np.random.randint(0,100,(10,3))\n",
        "F = np.roll(faces.repeat(2,axis=1),-1,axis=1)\n",
        "F = F.reshape(len(F)*3,2)\n",
        "F = np.sort(F,axis=1)\n",
        "G = F.view( dtype=[('p0',F.dtype),('p1',F.dtype)] )\n",
        "G = np.unique(G)\n",
        "print(G)"
      ]
    },
    {
      "cell_type": "markdown",
      "metadata": {
        "id": "STV97fra4RMU"
      },
      "source": [
        "#### 74. Given an array C that is a bincount, how to produce an array A such that np.bincount(A) == C? (★★★) \n",
        "(**hint**: np.repeat)"
      ]
    },
    {
      "cell_type": "code",
      "execution_count": null,
      "metadata": {
        "id": "im32lllK4RMU",
        "colab": {
          "base_uri": "https://localhost:8080/"
        },
        "outputId": "dacfa0a0-8107-438d-bfba-d0354aba9d9d"
      },
      "outputs": [
        {
          "output_type": "stream",
          "name": "stdout",
          "text": [
            "[1 1 2 3 4 4 6]\n"
          ]
        }
      ],
      "source": [
        "C = np.bincount([1,1,2,3,4,4,6])\n",
        "A = np.repeat(np.arange(len(C)), C)\n",
        "print(A)"
      ]
    },
    {
      "cell_type": "markdown",
      "metadata": {
        "id": "1E_8HXNf4RMU"
      },
      "source": [
        "#### 75. How to compute averages using a sliding window over an array? (★★★) \n",
        "(**hint**: np.cumsum)"
      ]
    },
    {
      "cell_type": "code",
      "execution_count": null,
      "metadata": {
        "id": "L3jT7qdK4RMV",
        "colab": {
          "base_uri": "https://localhost:8080/"
        },
        "outputId": "779157c7-f388-4481-d8b6-9e491076a1e1"
      },
      "outputs": [
        {
          "output_type": "stream",
          "name": "stdout",
          "text": [
            "[ 1.  2.  3.  4.  5.  6.  7.  8.  9. 10. 11. 12. 13. 14. 15. 16. 17. 18.]\n"
          ]
        }
      ],
      "source": [
        "def moving_average(a, n=3) :\n",
        "    ret = np.cumsum(a, dtype=float)\n",
        "    ret[n:] = ret[n:] - ret[:-n]\n",
        "    return ret[n - 1:] / n\n",
        "z = np.arange(20)\n",
        "print(moving_average(z, n=3))"
      ]
    },
    {
      "cell_type": "markdown",
      "metadata": {
        "id": "JbZln-qG4RMV"
      },
      "source": [
        "#### 76. Consider a one-dimensional array Z, build a two-dimensional array whose first row is (Z\\[0\\],Z\\[1\\],Z\\[2\\]) and each subsequent row is  shifted by 1 (last row should be (Z\\[-3\\],Z\\[-2\\],Z\\[-1\\]) (★★★) \n",
        "(**hint**: from numpy.lib import stride_tricks)"
      ]
    },
    {
      "cell_type": "code",
      "execution_count": null,
      "metadata": {
        "id": "3r_2YIzs4RMV",
        "colab": {
          "base_uri": "https://localhost:8080/"
        },
        "outputId": "5c411ee5-09a3-4663-db43-a4d61dbfc6df"
      },
      "outputs": [
        {
          "output_type": "stream",
          "name": "stdout",
          "text": [
            "[[0 1 2]\n",
            " [1 2 3]\n",
            " [2 3 4]\n",
            " [3 4 5]\n",
            " [4 5 6]\n",
            " [5 6 7]\n",
            " [6 7 8]\n",
            " [7 8 9]]\n"
          ]
        }
      ],
      "source": [
        "from numpy.lib import stride_tricks\n",
        "\n",
        "def rolling(a, window):\n",
        "    shape = (a.size - window + 1, window)\n",
        "    strides = (a.itemsize, a.itemsize)\n",
        "    return stride_tricks.as_strided(a, shape=shape, strides=strides)\n",
        "Z = rolling(np.arange(10), 3)\n",
        "print(Z)"
      ]
    },
    {
      "cell_type": "markdown",
      "metadata": {
        "id": "O_CQ88ES4RMV"
      },
      "source": [
        "#### 77. How to negate a boolean, or to change the sign of a float inplace? (★★★) \n",
        "(**hint**: np.logical_not, np.negative)"
      ]
    },
    {
      "cell_type": "code",
      "execution_count": null,
      "metadata": {
        "id": "hwiGrKao4RMW",
        "colab": {
          "base_uri": "https://localhost:8080/"
        },
        "outputId": "f79eafae-81e3-4aaf-f374-5018ce0a776a"
      },
      "outputs": [
        {
          "output_type": "execute_result",
          "data": {
            "text/plain": [
              "array([-1,  0, -1, -1, -1,  0, -1, -1, -1,  0,  0, -1,  0,  0,  0,  0,  0,\n",
              "        0,  0, -1, -1, -1,  0, -1,  0, -1,  0,  0,  0, -1, -1, -1, -1,  0,\n",
              "        0, -1,  0, -1,  0,  0,  0,  0, -1,  0,  0, -1, -1, -1,  0, -1,  0,\n",
              "        0,  0, -1,  0, -1,  0, -1,  0,  0, -1, -1, -1,  0, -1, -1,  0, -1,\n",
              "        0, -1,  0, -1, -1,  0,  0,  0, -1, -1,  0, -1, -1,  0, -1,  0,  0,\n",
              "        0,  0, -1,  0,  0,  0,  0,  0,  0,  0, -1, -1,  0, -1,  0])"
            ]
          },
          "metadata": {},
          "execution_count": 206
        }
      ],
      "source": [
        "z = np.random.randint(0,2,100)\n",
        "np.logical_not(z, out=z)\n",
        "\n",
        "Z = np.random.uniform(-1.0,1.0,100)\n",
        "np.negative(z, out=z)"
      ]
    },
    {
      "cell_type": "markdown",
      "metadata": {
        "id": "mE3n9u_z4RMW"
      },
      "source": [
        "#### 78. Consider 2 sets of points P0,P1 describing lines (2d) and a point p, how to compute distance from p to each line i  (P0\\[i\\],P1\\[i\\])? (★★★)"
      ]
    },
    {
      "cell_type": "code",
      "execution_count": null,
      "metadata": {
        "id": "eyYMQEQf4RMW",
        "colab": {
          "base_uri": "https://localhost:8080/"
        },
        "outputId": "36810c9f-7431-4b63-b461-fd1d7c15fdc1"
      },
      "outputs": [
        {
          "output_type": "stream",
          "name": "stdout",
          "text": [
            "[ 4.62353548  4.87317339  3.87015911  8.11358887  2.47140054 11.9905801\n",
            "  0.29290408  6.78927592 10.18723087  8.53222079]\n"
          ]
        }
      ],
      "source": [
        "def distance(P0, P1, p):\n",
        "    T = P1 - P0\n",
        "    L = (T**2).sum(axis=1)\n",
        "    U = -((P0[:,0]-p[...,0])*T[:,0] + (P0[:,1]-p[...,1])*T[:,1]) / L\n",
        "    U = U.reshape(len(U),1)\n",
        "    D = P0 + U*T - p\n",
        "    return np.sqrt((D**2).sum(axis=1))\n",
        "\n",
        "P0 = np.random.uniform(-10,10,(10,2))\n",
        "P1 = np.random.uniform(-10,10,(10,2))\n",
        "p  = np.random.uniform(-10,10,( 1,2))\n",
        "print(distance(P0, P1, p))"
      ]
    },
    {
      "cell_type": "markdown",
      "metadata": {
        "id": "Itvw6lKz4RMW"
      },
      "source": [
        "#### 79. Consider 2 sets of points P0,P1 describing lines (2d) and a set of points P, how to compute distance from each point j (P\\[j\\]) to each line i (P0\\[i\\],P1\\[i\\])? (★★★)"
      ]
    },
    {
      "cell_type": "code",
      "execution_count": null,
      "metadata": {
        "id": "HsoPkA-b4RMX",
        "colab": {
          "base_uri": "https://localhost:8080/"
        },
        "outputId": "a83c3637-7838-43c0-92dd-c957dc99ef6e"
      },
      "outputs": [
        {
          "output_type": "stream",
          "name": "stdout",
          "text": [
            "[[ 9.37836699  3.93559969  2.7935388   8.81413517  6.78271763  5.06138376\n",
            "   6.97768215  1.71608737  2.10061184 13.47472739]\n",
            " [12.08901008  6.38731239  3.00813    14.72820808 12.66734844  0.1280026\n",
            "   8.83038223  5.55836397  2.68644037 18.72241661]\n",
            " [13.42917896  8.20731097  8.45597556  7.56498665  3.16563495 10.34840033\n",
            "  11.70837078  4.25868213  0.52307673 14.20320058]\n",
            " [ 3.5406417   2.18035144  5.01418609  9.94856412 11.17625649  1.72234537\n",
            "   0.28966046  9.55317887  4.74206854 11.95540441]\n",
            " [ 1.11499748  4.25328659  4.14284517  2.64826547  3.43968383  5.21243651\n",
            "   0.97767557  3.78246403 10.13586476  5.84334771]\n",
            " [ 1.25983857  6.82675021  8.06996441  4.52768219  6.97160138  0.67325587\n",
            "   3.97421006  8.61763473 10.42659345  6.22522532]\n",
            " [ 3.38532194  1.42466077  2.84907213  5.26227002  7.45916152 17.22475811\n",
            "   3.07614857  7.94138998 13.23770323  1.16666253]\n",
            " [ 4.2036024   9.86198482 11.57802372  4.28942209  8.19011437  1.73059542\n",
            "   7.18914026 11.62839671 12.20653688  4.88763117]\n",
            " [ 1.87446104  3.69895451  5.24787345  6.50549867  7.79556904  1.06889445\n",
            "   0.88654303  7.41465595  7.57832725  8.86529548]\n",
            " [ 3.22516924  2.10667898  1.88419047  3.30251688  3.16106154  6.32883802\n",
            "   1.23284114  2.18582525  8.59269132  7.14311955]]\n"
          ]
        }
      ],
      "source": [
        "P0 = np.random.uniform(-10, 10, (10,2))\n",
        "P1 = np.random.uniform(-10,10,(10,2))\n",
        "p = np.random.uniform(-10, 10, (10,2))\n",
        "print(np.array([distance(P0,P1,p_i) for p_i in p]))"
      ]
    },
    {
      "cell_type": "markdown",
      "metadata": {
        "id": "cALCDK-a4RMX"
      },
      "source": [
        "#### 80. Consider an arbitrary array, write a function that extract a subpart with a fixed shape and centered on a given element (pad with a `fill` value when necessary) (★★★) \n",
        "(**hint**: minimum, maximum)"
      ]
    },
    {
      "cell_type": "code",
      "execution_count": null,
      "metadata": {
        "id": "90RmBZbX4RMX",
        "colab": {
          "base_uri": "https://localhost:8080/"
        },
        "outputId": "5630efb5-82f9-4e02-ad5f-c5afc9b62765"
      },
      "outputs": [
        {
          "output_type": "stream",
          "name": "stdout",
          "text": [
            "[[3 2 5 5 3 0 1 7 3 7]\n",
            " [3 5 6 9 5 4 8 7 9 7]\n",
            " [7 1 8 4 4 6 6 9 5 9]\n",
            " [8 8 5 2 1 2 2 6 9 0]\n",
            " [6 9 9 0 6 0 9 4 6 9]\n",
            " [4 5 4 3 0 0 6 5 1 7]\n",
            " [6 4 2 0 5 7 6 6 6 2]\n",
            " [0 6 5 1 8 7 9 0 8 4]\n",
            " [8 4 9 5 1 3 3 8 8 0]\n",
            " [5 7 0 0 5 3 5 2 4 0]]\n",
            "[[0 0 0 0 0]\n",
            " [0 3 2 5 5]\n",
            " [0 3 5 6 9]\n",
            " [0 7 1 8 4]\n",
            " [0 8 8 5 2]]\n"
          ]
        },
        {
          "output_type": "stream",
          "name": "stderr",
          "text": [
            "/usr/local/lib/python3.7/dist-packages/ipykernel_launcher.py:23: FutureWarning: Using a non-tuple sequence for multidimensional indexing is deprecated; use `arr[tuple(seq)]` instead of `arr[seq]`. In the future this will be interpreted as an array index, `arr[np.array(seq)]`, which will result either in an error or a different result.\n"
          ]
        }
      ],
      "source": [
        "Z = np.random.randint(0,10,(10,10))\n",
        "shape = (5,5)\n",
        "fill  = 0\n",
        "position = (1,1)\n",
        "\n",
        "R = np.ones(shape, dtype=Z.dtype)*fill\n",
        "P  = np.array(list(position)).astype(int)\n",
        "Rs = np.array(list(R.shape)).astype(int)\n",
        "Zs = np.array(list(Z.shape)).astype(int)\n",
        "\n",
        "R_start = np.zeros((len(shape),)).astype(int)\n",
        "R_stop  = np.array(list(shape)).astype(int)\n",
        "Z_start = (P-Rs//2)\n",
        "Z_stop  = (P+Rs//2)+Rs%2\n",
        "\n",
        "R_start = (R_start - np.minimum(Z_start,0)).tolist()\n",
        "Z_start = (np.maximum(Z_start,0)).tolist()\n",
        "R_stop = np.maximum(R_start, (R_stop - np.maximum(Z_stop-Zs,0))).tolist()\n",
        "Z_stop = (np.minimum(Z_stop,Zs)).tolist()\n",
        "\n",
        "r = [slice(start,stop) for start,stop in zip(R_start,R_stop)]\n",
        "z = [slice(start,stop) for start,stop in zip(Z_start,Z_stop)]\n",
        "R[r] = Z[z]\n",
        "print(Z)\n",
        "print(R)"
      ]
    },
    {
      "cell_type": "markdown",
      "metadata": {
        "id": "4UcucIYW4RMX"
      },
      "source": [
        "#### 81. Consider an array Z = \\[1,2,3,4,5,6,7,8,9,10,11,12,13,14\\], how to generate an array R = \\[\\[1,2,3,4\\], \\[2,3,4,5\\], \\[3,4,5,6\\], ..., \\[11,12,13,14\\]\\]? (★★★) \n",
        "(**hint**: stride\\_tricks.as\\_strided)"
      ]
    },
    {
      "cell_type": "code",
      "execution_count": null,
      "metadata": {
        "id": "JwZcpHV34RMX",
        "colab": {
          "base_uri": "https://localhost:8080/"
        },
        "outputId": "7e459142-9dc6-4c91-8cc3-c063db7714b1"
      },
      "outputs": [
        {
          "output_type": "stream",
          "name": "stdout",
          "text": [
            "[[ 1  2  3  4]\n",
            " [ 2  3  4  5]\n",
            " [ 3  4  5  6]\n",
            " [ 4  5  6  7]\n",
            " [ 5  6  7  8]\n",
            " [ 6  7  8  9]\n",
            " [ 7  8  9 10]\n",
            " [ 8  9 10 11]\n",
            " [ 9 10 11 12]\n",
            " [10 11 12 13]\n",
            " [11 12 13 14]]\n"
          ]
        }
      ],
      "source": [
        "z = np.arange(1,15,dtype=np.uint32)\n",
        "x = stride_tricks.as_strided(z,(11,4),(4,4))\n",
        "print(x)"
      ]
    },
    {
      "cell_type": "markdown",
      "metadata": {
        "id": "qEEOhCh84RMY"
      },
      "source": [
        "#### 82. Compute a matrix rank (★★★) \n",
        "(**hint**: np.linalg.svd) (suggestion: np.linalg.svd)"
      ]
    },
    {
      "cell_type": "code",
      "execution_count": null,
      "metadata": {
        "id": "GTs7qHC44RMY",
        "colab": {
          "base_uri": "https://localhost:8080/"
        },
        "outputId": "83e1dc89-3ffd-49da-c3ed-7a3594bd596a"
      },
      "outputs": [
        {
          "output_type": "stream",
          "name": "stdout",
          "text": [
            "10\n"
          ]
        }
      ],
      "source": [
        "z = np.random.uniform(0,1,(10,10))\n",
        "U, S, V = np.linalg.svd(z)\n",
        "rank = np.sum(S > 1e-10)\n",
        "print(rank)"
      ]
    },
    {
      "cell_type": "markdown",
      "metadata": {
        "id": "ik4V330k4RMY"
      },
      "source": [
        "#### 83. How to find the most frequent value in an array? \n",
        "(**hint**: np.bincount, argmax)"
      ]
    },
    {
      "cell_type": "code",
      "execution_count": null,
      "metadata": {
        "id": "93v92H314RMY",
        "colab": {
          "base_uri": "https://localhost:8080/"
        },
        "outputId": "60cf2cf8-3668-4b30-ba16-b5e72028c10d"
      },
      "outputs": [
        {
          "output_type": "stream",
          "name": "stdout",
          "text": [
            "2\n"
          ]
        }
      ],
      "source": [
        "z = np.random.randint(0,10,50)\n",
        "print(np.bincount(z).argmax())"
      ]
    },
    {
      "cell_type": "markdown",
      "metadata": {
        "id": "_x_LYSUA4RMY"
      },
      "source": [
        "#### 84. Extract all the contiguous 3x3 blocks from a random 10x10 matrix (★★★) \n",
        "(**hint**: stride\\_tricks.as\\_strided)"
      ]
    },
    {
      "cell_type": "code",
      "execution_count": null,
      "metadata": {
        "id": "8zAufJmM4RMY",
        "colab": {
          "base_uri": "https://localhost:8080/"
        },
        "outputId": "d4b37187-21fd-4b20-b721-714070a3ca62"
      },
      "outputs": [
        {
          "output_type": "stream",
          "name": "stdout",
          "text": [
            "[[[[4 1 1]\n",
            "   [1 2 2]\n",
            "   [3 2 2]]\n",
            "\n",
            "  [[1 1 2]\n",
            "   [2 2 0]\n",
            "   [2 2 3]]\n",
            "\n",
            "  [[1 2 2]\n",
            "   [2 0 3]\n",
            "   [2 3 2]]\n",
            "\n",
            "  [[2 2 1]\n",
            "   [0 3 4]\n",
            "   [3 2 1]]\n",
            "\n",
            "  [[2 1 1]\n",
            "   [3 4 3]\n",
            "   [2 1 0]]\n",
            "\n",
            "  [[1 1 4]\n",
            "   [4 3 0]\n",
            "   [1 0 0]]\n",
            "\n",
            "  [[1 4 3]\n",
            "   [3 0 3]\n",
            "   [0 0 1]]\n",
            "\n",
            "  [[4 3 4]\n",
            "   [0 3 2]\n",
            "   [0 1 0]]]\n",
            "\n",
            "\n",
            " [[[1 2 2]\n",
            "   [3 2 2]\n",
            "   [1 2 2]]\n",
            "\n",
            "  [[2 2 0]\n",
            "   [2 2 3]\n",
            "   [2 2 3]]\n",
            "\n",
            "  [[2 0 3]\n",
            "   [2 3 2]\n",
            "   [2 3 3]]\n",
            "\n",
            "  [[0 3 4]\n",
            "   [3 2 1]\n",
            "   [3 3 1]]\n",
            "\n",
            "  [[3 4 3]\n",
            "   [2 1 0]\n",
            "   [3 1 3]]\n",
            "\n",
            "  [[4 3 0]\n",
            "   [1 0 0]\n",
            "   [1 3 3]]\n",
            "\n",
            "  [[3 0 3]\n",
            "   [0 0 1]\n",
            "   [3 3 2]]\n",
            "\n",
            "  [[0 3 2]\n",
            "   [0 1 0]\n",
            "   [3 2 1]]]\n",
            "\n",
            "\n",
            " [[[3 2 2]\n",
            "   [1 2 2]\n",
            "   [4 0 0]]\n",
            "\n",
            "  [[2 2 3]\n",
            "   [2 2 3]\n",
            "   [0 0 2]]\n",
            "\n",
            "  [[2 3 2]\n",
            "   [2 3 3]\n",
            "   [0 2 2]]\n",
            "\n",
            "  [[3 2 1]\n",
            "   [3 3 1]\n",
            "   [2 2 3]]\n",
            "\n",
            "  [[2 1 0]\n",
            "   [3 1 3]\n",
            "   [2 3 2]]\n",
            "\n",
            "  [[1 0 0]\n",
            "   [1 3 3]\n",
            "   [3 2 0]]\n",
            "\n",
            "  [[0 0 1]\n",
            "   [3 3 2]\n",
            "   [2 0 4]]\n",
            "\n",
            "  [[0 1 0]\n",
            "   [3 2 1]\n",
            "   [0 4 1]]]\n",
            "\n",
            "\n",
            " [[[1 2 2]\n",
            "   [4 0 0]\n",
            "   [3 0 0]]\n",
            "\n",
            "  [[2 2 3]\n",
            "   [0 0 2]\n",
            "   [0 0 1]]\n",
            "\n",
            "  [[2 3 3]\n",
            "   [0 2 2]\n",
            "   [0 1 4]]\n",
            "\n",
            "  [[3 3 1]\n",
            "   [2 2 3]\n",
            "   [1 4 1]]\n",
            "\n",
            "  [[3 1 3]\n",
            "   [2 3 2]\n",
            "   [4 1 0]]\n",
            "\n",
            "  [[1 3 3]\n",
            "   [3 2 0]\n",
            "   [1 0 4]]\n",
            "\n",
            "  [[3 3 2]\n",
            "   [2 0 4]\n",
            "   [0 4 1]]\n",
            "\n",
            "  [[3 2 1]\n",
            "   [0 4 1]\n",
            "   [4 1 2]]]\n",
            "\n",
            "\n",
            " [[[4 0 0]\n",
            "   [3 0 0]\n",
            "   [2 4 1]]\n",
            "\n",
            "  [[0 0 2]\n",
            "   [0 0 1]\n",
            "   [4 1 3]]\n",
            "\n",
            "  [[0 2 2]\n",
            "   [0 1 4]\n",
            "   [1 3 0]]\n",
            "\n",
            "  [[2 2 3]\n",
            "   [1 4 1]\n",
            "   [3 0 2]]\n",
            "\n",
            "  [[2 3 2]\n",
            "   [4 1 0]\n",
            "   [0 2 4]]\n",
            "\n",
            "  [[3 2 0]\n",
            "   [1 0 4]\n",
            "   [2 4 4]]\n",
            "\n",
            "  [[2 0 4]\n",
            "   [0 4 1]\n",
            "   [4 4 2]]\n",
            "\n",
            "  [[0 4 1]\n",
            "   [4 1 2]\n",
            "   [4 2 0]]]\n",
            "\n",
            "\n",
            " [[[3 0 0]\n",
            "   [2 4 1]\n",
            "   [2 1 4]]\n",
            "\n",
            "  [[0 0 1]\n",
            "   [4 1 3]\n",
            "   [1 4 3]]\n",
            "\n",
            "  [[0 1 4]\n",
            "   [1 3 0]\n",
            "   [4 3 1]]\n",
            "\n",
            "  [[1 4 1]\n",
            "   [3 0 2]\n",
            "   [3 1 4]]\n",
            "\n",
            "  [[4 1 0]\n",
            "   [0 2 4]\n",
            "   [1 4 3]]\n",
            "\n",
            "  [[1 0 4]\n",
            "   [2 4 4]\n",
            "   [4 3 4]]\n",
            "\n",
            "  [[0 4 1]\n",
            "   [4 4 2]\n",
            "   [3 4 0]]\n",
            "\n",
            "  [[4 1 2]\n",
            "   [4 2 0]\n",
            "   [4 0 4]]]\n",
            "\n",
            "\n",
            " [[[2 4 1]\n",
            "   [2 1 4]\n",
            "   [0 2 4]]\n",
            "\n",
            "  [[4 1 3]\n",
            "   [1 4 3]\n",
            "   [2 4 2]]\n",
            "\n",
            "  [[1 3 0]\n",
            "   [4 3 1]\n",
            "   [4 2 2]]\n",
            "\n",
            "  [[3 0 2]\n",
            "   [3 1 4]\n",
            "   [2 2 1]]\n",
            "\n",
            "  [[0 2 4]\n",
            "   [1 4 3]\n",
            "   [2 1 0]]\n",
            "\n",
            "  [[2 4 4]\n",
            "   [4 3 4]\n",
            "   [1 0 2]]\n",
            "\n",
            "  [[4 4 2]\n",
            "   [3 4 0]\n",
            "   [0 2 1]]\n",
            "\n",
            "  [[4 2 0]\n",
            "   [4 0 4]\n",
            "   [2 1 1]]]\n",
            "\n",
            "\n",
            " [[[2 1 4]\n",
            "   [0 2 4]\n",
            "   [4 2 0]]\n",
            "\n",
            "  [[1 4 3]\n",
            "   [2 4 2]\n",
            "   [2 0 3]]\n",
            "\n",
            "  [[4 3 1]\n",
            "   [4 2 2]\n",
            "   [0 3 3]]\n",
            "\n",
            "  [[3 1 4]\n",
            "   [2 2 1]\n",
            "   [3 3 3]]\n",
            "\n",
            "  [[1 4 3]\n",
            "   [2 1 0]\n",
            "   [3 3 1]]\n",
            "\n",
            "  [[4 3 4]\n",
            "   [1 0 2]\n",
            "   [3 1 3]]\n",
            "\n",
            "  [[3 4 0]\n",
            "   [0 2 1]\n",
            "   [1 3 1]]\n",
            "\n",
            "  [[4 0 4]\n",
            "   [2 1 1]\n",
            "   [3 1 0]]]]\n"
          ]
        }
      ],
      "source": [
        "Z = np.random.randint(0,5,(10,10))\n",
        "n = 3\n",
        "i = 1 + (Z.shape[0]-3)\n",
        "j = 1 + (Z.shape[1]-3)\n",
        "x = stride_tricks.as_strided(Z, shape=(i, j, n, n), strides=Z.strides + Z.strides)\n",
        "print(x)"
      ]
    },
    {
      "cell_type": "markdown",
      "metadata": {
        "id": "jr54bB9D4RMZ"
      },
      "source": [
        "#### 85. Create a 2D array subclass such that Z\\[i,j\\] == Z\\[j,i\\] (★★★) \n",
        "(**hint**: class method)"
      ]
    },
    {
      "cell_type": "code",
      "execution_count": null,
      "metadata": {
        "id": "3GAbUQ8O4RMZ",
        "colab": {
          "base_uri": "https://localhost:8080/"
        },
        "outputId": "d48022cd-6564-473b-9884-0e4d29e70b1a"
      },
      "outputs": [
        {
          "output_type": "stream",
          "name": "stdout",
          "text": [
            "[[ 0  5 10 15 10]\n",
            " [ 5  4  6 11 12]\n",
            " [10  6  7 42  6]\n",
            " [15 11 42  3  5]\n",
            " [10 12  6  5  6]]\n"
          ]
        }
      ],
      "source": [
        "class Symetric(np.ndarray):\n",
        "    def __setitem__(self, index, value):\n",
        "        i,j = index\n",
        "        super(Symetric, self).__setitem__((i,j), value)\n",
        "        super(Symetric, self).__setitem__((j,i), value)\n",
        "\n",
        "def symetric(Z):\n",
        "    return np.asarray(Z + Z.T - np.diag(Z.diagonal())).view(Symetric)\n",
        "\n",
        "x = symetric(np.random.randint(0,10,(5,5)))\n",
        "x[2,3] = 42\n",
        "print(x)\n"
      ]
    },
    {
      "cell_type": "markdown",
      "metadata": {
        "id": "TVzDMQTO4RMZ"
      },
      "source": [
        "#### 86. Consider a set of p matrices wich shape (n,n) and a set of p vectors with shape (n,1). How to compute the sum of of the p matrix products at once? (result has shape (n,1)) (★★★) \n",
        "(**hint**: np.tensordot)"
      ]
    },
    {
      "cell_type": "code",
      "execution_count": null,
      "metadata": {
        "id": "4lcLrEIa4RMa",
        "colab": {
          "base_uri": "https://localhost:8080/"
        },
        "outputId": "1f98d54c-ea6d-4f6d-d62a-3e594be506fc"
      },
      "outputs": [
        {
          "output_type": "stream",
          "name": "stdout",
          "text": [
            "[[200.]\n",
            " [200.]\n",
            " [200.]\n",
            " [200.]\n",
            " [200.]\n",
            " [200.]\n",
            " [200.]\n",
            " [200.]\n",
            " [200.]\n",
            " [200.]\n",
            " [200.]\n",
            " [200.]\n",
            " [200.]\n",
            " [200.]\n",
            " [200.]\n",
            " [200.]\n",
            " [200.]\n",
            " [200.]\n",
            " [200.]\n",
            " [200.]]\n"
          ]
        }
      ],
      "source": [
        "p, n = 10, 20\n",
        "M = np.ones((p,n,n))\n",
        "V = np.ones((p,n,1))\n",
        "x = np.tensordot(M, V, axes=[[0, 2], [0, 1]])\n",
        "print(x)"
      ]
    },
    {
      "cell_type": "markdown",
      "metadata": {
        "id": "-lfd56m_4RMa"
      },
      "source": [
        "#### 87. Consider a 16x16 array, how to get the block-sum (block size is 4x4)? (★★★) \n",
        "(**hint**: np.add.reduceat)"
      ]
    },
    {
      "cell_type": "code",
      "execution_count": null,
      "metadata": {
        "id": "LOIVo9rr4RMa",
        "colab": {
          "base_uri": "https://localhost:8080/"
        },
        "outputId": "9c2bd213-6747-4891-d1da-c5dc54f8edd5"
      },
      "outputs": [
        {
          "output_type": "stream",
          "name": "stdout",
          "text": [
            "[[16. 16. 16. 16.]\n",
            " [16. 16. 16. 16.]\n",
            " [16. 16. 16. 16.]\n",
            " [16. 16. 16. 16.]]\n"
          ]
        }
      ],
      "source": [
        "z = np.ones((16,16))\n",
        "k = 4\n",
        "x = np.add.reduceat(np.add.reduceat(z, np.arange(0, z.shape[0], k), axis=0),\n",
        "                                       np.arange(0, z.shape[1], k), axis=1)\n",
        "print(x)"
      ]
    },
    {
      "cell_type": "markdown",
      "metadata": {
        "id": "KSUG0fAL4RMa"
      },
      "source": [
        "#### 88. How to implement the Game of Life using numpy arrays? (★★★)"
      ]
    },
    {
      "cell_type": "code",
      "execution_count": null,
      "metadata": {
        "id": "IB5QDo3y4RMa",
        "colab": {
          "base_uri": "https://localhost:8080/"
        },
        "outputId": "56dc51c0-1bc0-4a71-e962-176bcec7fbde"
      },
      "outputs": [
        {
          "output_type": "stream",
          "name": "stdout",
          "text": [
            "[[0 0 0 ... 0 0 0]\n",
            " [0 0 0 ... 0 0 0]\n",
            " [0 0 0 ... 0 0 0]\n",
            " ...\n",
            " [0 0 0 ... 0 0 0]\n",
            " [0 0 0 ... 0 0 0]\n",
            " [0 0 0 ... 0 0 0]]\n"
          ]
        }
      ],
      "source": [
        "def iterate(Z):\n",
        "    \n",
        "    N = (Z[0:-2,0:-2] + Z[0:-2,1:-1] + Z[0:-2,2:] +\n",
        "         Z[1:-1,0:-2]                + Z[1:-1,2:] +\n",
        "         Z[2:  ,0:-2] + Z[2:  ,1:-1] + Z[2:  ,2:])\n",
        "\n",
        "    \n",
        "    birth = (N==3) & (Z[1:-1,1:-1]==0)\n",
        "    survive = ((N==2) | (N==3)) & (Z[1:-1,1:-1]==1)\n",
        "    Z[...] = 0\n",
        "    Z[1:-1,1:-1][birth | survive] = 1\n",
        "    return Z\n",
        "\n",
        "Z = np.random.randint(0,2,(50,50))\n",
        "for i in range(100): Z = iterate(Z)\n",
        "print(Z)"
      ]
    },
    {
      "cell_type": "markdown",
      "metadata": {
        "id": "VMtBF0KI4RMb"
      },
      "source": [
        "#### 89. How to get the n largest values of an array (★★★) \n",
        "(**hint**: np.argsort | np.argpartition)"
      ]
    },
    {
      "cell_type": "code",
      "execution_count": null,
      "metadata": {
        "id": "asjEQ3uN4RMb",
        "colab": {
          "base_uri": "https://localhost:8080/"
        },
        "outputId": "6edb588d-60d4-4083-fe19-5e98b635a58e"
      },
      "outputs": [
        {
          "output_type": "stream",
          "name": "stdout",
          "text": [
            "[9995 9996 9997 9998 9999]\n"
          ]
        }
      ],
      "source": [
        "Z = np.arange(10000)\n",
        "np.random.shuffle(Z)\n",
        "n = 5\n",
        "\n",
        "\n",
        "print (Z[np.argsort(Z)[-n:]])"
      ]
    },
    {
      "cell_type": "markdown",
      "metadata": {
        "id": "mVz8ihK14RMb"
      },
      "source": [
        "#### 90. Given an arbitrary number of vectors, build the cartesian product (every combinations of every item) (★★★) \n",
        "(**hint**: np.indices)"
      ]
    },
    {
      "cell_type": "code",
      "execution_count": null,
      "metadata": {
        "scrolled": true,
        "id": "LTT13NXa4RMb",
        "colab": {
          "base_uri": "https://localhost:8080/"
        },
        "outputId": "ec844284-5887-4acd-e554-fa58b2db6f4f"
      },
      "outputs": [
        {
          "output_type": "stream",
          "name": "stdout",
          "text": [
            "[[1 4 6]\n",
            " [1 4 7]\n",
            " [1 5 6]\n",
            " [1 5 7]\n",
            " [2 4 6]\n",
            " [2 4 7]\n",
            " [2 5 6]\n",
            " [2 5 7]\n",
            " [3 4 6]\n",
            " [3 4 7]\n",
            " [3 5 6]\n",
            " [3 5 7]]\n"
          ]
        }
      ],
      "source": [
        "def cartesian(arrays):\n",
        "    arrays = [np.asarray(a) for a in arrays]\n",
        "    shape = (len(x) for x in arrays)\n",
        "\n",
        "    ix = np.indices(shape, dtype=int)\n",
        "    ix = ix.reshape(len(arrays), -1).T\n",
        "\n",
        "    for n, arr in enumerate(arrays):\n",
        "        ix[:, n] = arrays[n][ix[:, n]]\n",
        "\n",
        "    return ix\n",
        "\n",
        "print (cartesian(([1, 2, 3], [4, 5], [6, 7])))"
      ]
    },
    {
      "cell_type": "markdown",
      "metadata": {
        "id": "U31Xim6C4RMc"
      },
      "source": [
        "#### 91. How to create a record array from a regular array? (★★★) \n",
        "(**hint**: np.core.records.fromarrays)"
      ]
    },
    {
      "cell_type": "code",
      "execution_count": null,
      "metadata": {
        "id": "hsH_mSM_4RMc",
        "colab": {
          "base_uri": "https://localhost:8080/"
        },
        "outputId": "7c17bf9d-1035-4546-8c43-4a9808bee9fa"
      },
      "outputs": [
        {
          "output_type": "stream",
          "name": "stdout",
          "text": [
            "[(b'Hello', 2.5, 3) (b'World', 3.6, 2)]\n"
          ]
        }
      ],
      "source": [
        "z = np.array([(\"Hello\", 2.5, 3),\n",
        "              (\"World\", 3.6, 2)])\n",
        "R = np.core.records.fromarrays(z.T, \n",
        "                               names='col1, col2, col3',\n",
        "                               formats = 'S8, f8, i8')\n",
        "print(R)"
      ]
    },
    {
      "cell_type": "markdown",
      "metadata": {
        "id": "JmvOXIgp4RMc"
      },
      "source": [
        "#### 92. Consider a large vector Z, compute Z to the power of 3 using 3 different methods (★★★) \n",
        "(**hint**: np.power, \\*, np.einsum)"
      ]
    },
    {
      "cell_type": "code",
      "execution_count": null,
      "metadata": {
        "id": "NnuelngL4RMc",
        "colab": {
          "base_uri": "https://localhost:8080/",
          "height": 356
        },
        "outputId": "1d51362d-5b88-466e-a654-72429b3cf8ee"
      },
      "outputs": [
        {
          "output_type": "error",
          "ename": "TypeError",
          "evalue": "ignored",
          "traceback": [
            "\u001b[0;31m---------------------------------------------------------------------------\u001b[0m",
            "\u001b[0;31mTypeError\u001b[0m                                 Traceback (most recent call last)",
            "\u001b[0;32m<ipython-input-220-3d232f0722da>\u001b[0m in \u001b[0;36m<module>\u001b[0;34m()\u001b[0m\n\u001b[0;32m----> 1\u001b[0;31m \u001b[0mx\u001b[0m \u001b[0;34m=\u001b[0m \u001b[0mnp\u001b[0m\u001b[0;34m.\u001b[0m\u001b[0mrandom\u001b[0m\u001b[0;34m.\u001b[0m\u001b[0mrand\u001b[0m\u001b[0;34m(\u001b[0m\u001b[0;36m5e7\u001b[0m\u001b[0;34m)\u001b[0m\u001b[0;34m\u001b[0m\u001b[0;34m\u001b[0m\u001b[0m\n\u001b[0m\u001b[1;32m      2\u001b[0m \u001b[0;34m\u001b[0m\u001b[0m\n\u001b[1;32m      3\u001b[0m \u001b[0mget_ipython\u001b[0m\u001b[0;34m(\u001b[0m\u001b[0;34m)\u001b[0m\u001b[0;34m.\u001b[0m\u001b[0mmagic\u001b[0m\u001b[0;34m(\u001b[0m\u001b[0;34m'timeit np.power(x,3)'\u001b[0m\u001b[0;34m)\u001b[0m\u001b[0;34m\u001b[0m\u001b[0;34m\u001b[0m\u001b[0m\n\u001b[1;32m      4\u001b[0m \u001b[0mget_ipython\u001b[0m\u001b[0;34m(\u001b[0m\u001b[0;34m)\u001b[0m\u001b[0;34m.\u001b[0m\u001b[0mmagic\u001b[0m\u001b[0;34m(\u001b[0m\u001b[0;34m'timeit x*x*x'\u001b[0m\u001b[0;34m)\u001b[0m\u001b[0;34m\u001b[0m\u001b[0;34m\u001b[0m\u001b[0m\n\u001b[1;32m      5\u001b[0m \u001b[0mget_ipython\u001b[0m\u001b[0;34m(\u001b[0m\u001b[0;34m)\u001b[0m\u001b[0;34m.\u001b[0m\u001b[0mmagic\u001b[0m\u001b[0;34m(\u001b[0m\u001b[0;34m\"timeit np.einsum('i,i,i->i',x,x,x)\"\u001b[0m\u001b[0;34m)\u001b[0m\u001b[0;34m\u001b[0m\u001b[0;34m\u001b[0m\u001b[0m\n",
            "\u001b[0;32mmtrand.pyx\u001b[0m in \u001b[0;36mnumpy.random.mtrand.RandomState.rand\u001b[0;34m()\u001b[0m\n",
            "\u001b[0;32mmtrand.pyx\u001b[0m in \u001b[0;36mnumpy.random.mtrand.RandomState.random_sample\u001b[0;34m()\u001b[0m\n",
            "\u001b[0;32m_common.pyx\u001b[0m in \u001b[0;36mnumpy.random._common.double_fill\u001b[0;34m()\u001b[0m\n",
            "\u001b[0;31mTypeError\u001b[0m: 'float' object cannot be interpreted as an integer"
          ]
        }
      ],
      "source": [
        "x = np.random.rand(5e7)\n",
        "\n",
        "%timeit np.power(x,3)\n",
        "%timeit x*x*x\n",
        "%timeit np.einsum('i,i,i->i',x,x,x)"
      ]
    },
    {
      "cell_type": "markdown",
      "metadata": {
        "id": "PSbqTRRu4RMc"
      },
      "source": [
        "#### 93. Consider two arrays A and B of shape (8,3) and (2,2). How to find rows of A that contain elements of each row of B regardless of the order of the elements in B? (★★★) \n",
        "(**hint**: np.where)"
      ]
    },
    {
      "cell_type": "code",
      "execution_count": null,
      "metadata": {
        "id": "Usf6NEvA4RMd",
        "colab": {
          "base_uri": "https://localhost:8080/"
        },
        "outputId": "283e7d2c-358f-493a-83d0-8010de7546aa"
      },
      "outputs": [
        {
          "output_type": "stream",
          "name": "stdout",
          "text": [
            "[0 1 2 3 6 7]\n"
          ]
        }
      ],
      "source": [
        "A = np.random.randint(0,5,(8,3))\n",
        "B = np.random.randint(0,5,(2,2))\n",
        "\n",
        "C = (A[..., np.newaxis, np.newaxis] == B)\n",
        "rows = np.where(C.any((3,1)).all(1))[0]\n",
        "print(rows)"
      ]
    },
    {
      "cell_type": "markdown",
      "metadata": {
        "id": "3dMtCFBs4RMd"
      },
      "source": [
        "#### 94. Considering a 10x3 matrix, extract rows with unequal values (e.g. \\[2,2,3\\]) (★★★)"
      ]
    },
    {
      "cell_type": "code",
      "execution_count": null,
      "metadata": {
        "id": "pRa7tTA14RMd",
        "colab": {
          "base_uri": "https://localhost:8080/"
        },
        "outputId": "22d50b42-e38d-4798-db89-08148b80c8fb"
      },
      "outputs": [
        {
          "output_type": "stream",
          "name": "stdout",
          "text": [
            "[[0 1 1]\n",
            " [4 2 3]\n",
            " [4 3 0]\n",
            " [3 0 2]\n",
            " [1 2 4]\n",
            " [3 0 1]\n",
            " [2 3 3]\n",
            " [2 3 1]\n",
            " [3 4 0]\n",
            " [3 1 1]]\n",
            "[[0 1 1]\n",
            " [4 2 3]\n",
            " [4 3 0]\n",
            " [3 0 2]\n",
            " [1 2 4]\n",
            " [3 0 1]\n",
            " [2 3 3]\n",
            " [2 3 1]\n",
            " [3 4 0]\n",
            " [3 1 1]]\n",
            "[[0 1 1]\n",
            " [4 2 3]\n",
            " [4 3 0]\n",
            " [3 0 2]\n",
            " [1 2 4]\n",
            " [3 0 1]\n",
            " [2 3 3]\n",
            " [2 3 1]\n",
            " [3 4 0]\n",
            " [3 1 1]]\n"
          ]
        }
      ],
      "source": [
        "z = np.random.randint(0,5,(10,3))\n",
        "print(z)\n",
        "\n",
        "E = np.all(z[:,1:] == z[:,:-1], axis=1)\n",
        "U = z[~E]\n",
        "print(U)\n",
        "U = z[z.max(axis=1) != z.min(axis=1),:]\n",
        "print(U)"
      ]
    },
    {
      "cell_type": "markdown",
      "metadata": {
        "id": "iQT7DF4V4RMd"
      },
      "source": [
        "#### 95. Convert a vector of ints into a matrix binary representation (★★★) \n",
        "(**hint**: np.unpackbits)"
      ]
    },
    {
      "cell_type": "code",
      "execution_count": null,
      "metadata": {
        "id": "SqkEdth24RMd",
        "colab": {
          "base_uri": "https://localhost:8080/"
        },
        "outputId": "649c8bb3-287e-4211-addb-68a176850d69"
      },
      "outputs": [
        {
          "output_type": "stream",
          "name": "stdout",
          "text": [
            "[[0 0 0 0 0 0 0 0]\n",
            " [0 0 0 0 0 0 0 1]\n",
            " [0 0 0 0 0 0 1 0]\n",
            " [0 0 0 0 0 0 1 1]\n",
            " [0 0 0 0 1 1 1 1]\n",
            " [0 0 0 1 0 0 0 0]\n",
            " [0 0 1 0 0 0 0 0]\n",
            " [0 1 0 0 0 0 0 0]\n",
            " [1 0 0 0 0 0 0 0]]\n"
          ]
        }
      ],
      "source": [
        "I = np.array([0, 1, 2, 3, 15, 16, 32, 64, 128])\n",
        "B = ((I.reshape(-1,1) & (2**np.arange(8))) != 0).astype(int)\n",
        "print(B[:,::-1])"
      ]
    },
    {
      "cell_type": "markdown",
      "metadata": {
        "id": "qPy1tzhI4RMd"
      },
      "source": [
        "#### 96. Given a two dimensional array, how to extract unique rows? (★★★) \n",
        "(**hint**: np.ascontiguousarray)"
      ]
    },
    {
      "cell_type": "code",
      "execution_count": null,
      "metadata": {
        "id": "UygTXSqF4RMd",
        "colab": {
          "base_uri": "https://localhost:8080/"
        },
        "outputId": "ed801aff-ae18-4a8f-ccf7-086ba9cfaebd"
      },
      "outputs": [
        {
          "output_type": "stream",
          "name": "stdout",
          "text": [
            "[[0 0 0]\n",
            " [0 0 1]\n",
            " [0 1 0]\n",
            " [1 0 0]\n",
            " [1 0 1]]\n"
          ]
        }
      ],
      "source": [
        "Z = np.random.randint(0,2,(6,3))\n",
        "T = np.ascontiguousarray(Z).view(np.dtype((np.void, Z.dtype.itemsize * Z.shape[1])))\n",
        "_, idx = np.unique(T, return_index=True)\n",
        "uZ = Z[idx]\n",
        "print(uZ)"
      ]
    },
    {
      "cell_type": "markdown",
      "metadata": {
        "id": "PBsQG_wd4RMd"
      },
      "source": [
        "#### 97. Considering 2 vectors A & B, write the einsum equivalent of inner, outer, sum, and mul function (★★★) \n",
        "(**hint**: np.einsum)"
      ]
    },
    {
      "cell_type": "code",
      "execution_count": null,
      "metadata": {
        "id": "6yFJw0UM4RMd",
        "colab": {
          "base_uri": "https://localhost:8080/"
        },
        "outputId": "21d0f340-3b28-424d-d151-db9da83a835d"
      },
      "outputs": [
        {
          "output_type": "execute_result",
          "data": {
            "text/plain": [
              "array([[0.47531184, 0.12314417, 0.18043534, 0.36337609, 0.66393979,\n",
              "        0.52249907, 0.29603586, 0.41386718, 0.14654296, 0.74193486],\n",
              "       [0.27561237, 0.07140587, 0.1046265 , 0.21070577, 0.3849894 ,\n",
              "        0.30297417, 0.17165814, 0.23998332, 0.0849738 , 0.4302153 ],\n",
              "       [0.45526282, 0.11794986, 0.17282444, 0.3480486 , 0.63593431,\n",
              "        0.50045966, 0.28354884, 0.39640994, 0.14036166, 0.71063948],\n",
              "       [0.51779593, 0.13415098, 0.19656292, 0.39585518, 0.72328373,\n",
              "        0.56920082, 0.32249598, 0.45085925, 0.15964119, 0.8082501 ],\n",
              "       [0.47397721, 0.12279839, 0.17992869, 0.36235576, 0.66207551,\n",
              "        0.52103194, 0.29520461, 0.41270507, 0.14613148, 0.73985157],\n",
              "       [0.50834395, 0.13170216, 0.19297481, 0.38862914, 0.71008072,\n",
              "        0.55881048, 0.31660906, 0.44262915, 0.15672706, 0.7934961 ],\n",
              "       [0.18844356, 0.04882211, 0.07153594, 0.14406518, 0.26322757,\n",
              "        0.20715155, 0.11736727, 0.16408303, 0.05809886, 0.29414972],\n",
              "       [0.1565665 , 0.04056337, 0.05943494, 0.11969515, 0.21870006,\n",
              "        0.17210985, 0.09751345, 0.13632678, 0.04827087, 0.24439143],\n",
              "       [0.1719266 , 0.04454288, 0.06526586, 0.13143795, 0.24015584,\n",
              "        0.18899485, 0.1070801 , 0.14970125, 0.05300653, 0.26836769],\n",
              "       [0.08479919, 0.02196984, 0.03219102, 0.06482901, 0.11845183,\n",
              "        0.09321774, 0.05281501, 0.073837  , 0.02614436, 0.13236673]])"
            ]
          },
          "metadata": {},
          "execution_count": 225
        }
      ],
      "source": [
        "A = np.random.uniform(0,1,10)\n",
        "B = np.random.uniform(0,1,10)\n",
        "\n",
        "np.einsum('i->', A)       \n",
        "np.einsum('i,i->i', A, B)\n",
        "np.einsum('i,i', A, B)   \n",
        "np.einsum('i,j->ij', A, B)    "
      ]
    },
    {
      "cell_type": "markdown",
      "metadata": {
        "id": "QMxL2oSk4RMd"
      },
      "source": [
        "#### 98. Considering a path described by two vectors (X,Y), how to sample it using equidistant samples (★★★)? \n",
        "(**hint**: np.cumsum, np.interp)"
      ]
    },
    {
      "cell_type": "code",
      "execution_count": null,
      "metadata": {
        "collapsed": true,
        "id": "50qvaPio4RMe"
      },
      "outputs": [],
      "source": [
        "phi = np.arange(0, 10*np.pi, 0.1)\n",
        "a = 1\n",
        "x = a*phi*np.cos(phi)\n",
        "y = a*phi*np.sin(phi)\n",
        "\n",
        "dr = (np.diff(x)**2 + np.diff(y)**2)**.5\n",
        "r = np.zeros_like(x)\n",
        "r[1:] = np.cumsum(dr)                \n",
        "r_int = np.linspace(0, r.max(), 200) \n",
        "x_int = np.interp(r_int, r, x)       \n",
        "y_int = np.interp(r_int, r, y)"
      ]
    },
    {
      "cell_type": "markdown",
      "metadata": {
        "id": "hszcZuwc4RMe"
      },
      "source": [
        "#### 99. Given an integer n and a 2D array X, select from X the rows which can be interpreted as draws from a multinomial distribution with n degrees, i.e., the rows which only contain integers and which sum to n. (★★★) \n",
        "(**hint**: np.logical\\_and.reduce, np.mod)"
      ]
    },
    {
      "cell_type": "code",
      "execution_count": null,
      "metadata": {
        "id": "55-cr-Y84RMe",
        "colab": {
          "base_uri": "https://localhost:8080/"
        },
        "outputId": "6bbb8260-3237-49c3-e4b2-15941de9d7b7"
      },
      "outputs": [
        {
          "output_type": "stream",
          "name": "stdout",
          "text": [
            "[[2. 0. 1. 1.]]\n"
          ]
        }
      ],
      "source": [
        "X = np.asarray([[1.0, 0.0, 3.0, 8.0],\n",
        "                [2.0, 0.0, 1.0, 1.0],\n",
        "                [1.5, 2.5, 1.0, 0.0]])\n",
        "n = 4\n",
        "M = np.logical_and.reduce(np.mod(X, 1) == 0, axis=-1)\n",
        "M &= (X.sum(axis=-1) == n)\n",
        "print(X[M])"
      ]
    },
    {
      "cell_type": "markdown",
      "metadata": {
        "id": "qUn8EBu_4RMe"
      },
      "source": [
        "#### 100. Compute bootstrapped 95% confidence intervals for the mean of a 1D array X (i.e., resample the elements of an array with replacement N times, compute the mean of each sample, and then compute percentiles over the means). (★★★) \n",
        "(**hint**: np.percentile)"
      ]
    },
    {
      "cell_type": "code",
      "execution_count": null,
      "metadata": {
        "id": "GMJLPUJA4RMe",
        "colab": {
          "base_uri": "https://localhost:8080/"
        },
        "outputId": "c6e182b0-eba6-4d67-c2b1-60c1e1874b9e"
      },
      "outputs": [
        {
          "output_type": "stream",
          "name": "stdout",
          "text": [
            "[-0.21029473  0.17085074]\n"
          ]
        }
      ],
      "source": [
        "X = np.random.randn(100) \n",
        "N = 1000 \n",
        "idx = np.random.randint(0, X.size, (N, X.size))\n",
        "means = X[idx].mean(axis=1)\n",
        "confint = np.percentile(means, [2.5, 97.5])\n",
        "print(confint)"
      ]
    }
  ],
  "metadata": {
    "kernelspec": {
      "display_name": "Python 3",
      "language": "python",
      "name": "python3"
    },
    "language_info": {
      "codemirror_mode": {
        "name": "ipython",
        "version": 3
      },
      "file_extension": ".py",
      "mimetype": "text/x-python",
      "name": "python",
      "nbconvert_exporter": "python",
      "pygments_lexer": "ipython3",
      "version": "3.8.3"
    },
    "colab": {
      "name": "100Numpy_tasks.ipynb",
      "provenance": [],
      "include_colab_link": true
    }
  },
  "nbformat": 4,
  "nbformat_minor": 0
}