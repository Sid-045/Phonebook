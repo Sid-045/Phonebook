{
  "nbformat": 4,
  "nbformat_minor": 0,
  "metadata": {
    "colab": {
      "name": "Phonebook_New",
      "provenance": [],
      "collapsed_sections": [],
      "authorship_tag": "ABX9TyMgxM6oClxp0b6Eh/eaR0XQ",
      "include_colab_link": true
    },
    "kernelspec": {
      "name": "python3",
      "display_name": "Python 3"
    },
    "language_info": {
      "name": "python"
    }
  },
  "cells": [
    {
      "cell_type": "markdown",
      "metadata": {
        "id": "view-in-github",
        "colab_type": "text"
      },
      "source": [
        "<a href=\"https://colab.research.google.com/github/Sid-045/Phonebook/blob/main/Phonebook_New.ipynb\" target=\"_parent\"><img src=\"https://colab.research.google.com/assets/colab-badge.svg\" alt=\"Open In Colab\"/></a>"
      ]
    },
    {
      "cell_type": "code",
      "source": [
        "!pip install dnspython\n",
        "!pip install pymongo[srv]"
      ],
      "metadata": {
        "colab": {
          "base_uri": "https://localhost:8080/"
        },
        "id": "2MSclS1lJ4Uw",
        "outputId": "7e8d518d-8403-4013-8181-17dfb303bf70"
      },
      "execution_count": null,
      "outputs": [
        {
          "output_type": "stream",
          "name": "stdout",
          "text": [
            "Requirement already satisfied: dnspython in /usr/local/lib/python3.7/dist-packages (2.2.0)\n",
            "Requirement already satisfied: pymongo[srv] in /usr/local/lib/python3.7/dist-packages (4.0.1)\n",
            "Requirement already satisfied: dnspython<3.0.0,>=1.16.0 in /usr/local/lib/python3.7/dist-packages (from pymongo[srv]) (2.2.0)\n"
          ]
        }
      ]
    },
    {
      "cell_type": "code",
      "source": [
        "import pandas as pd\n",
        "import pymongo\n",
        "from pymongo import MongoClient\n",
        "client = pymongo.MongoClient(\"mongodb+srv://username:<password>@cluster0.eubig.mongodb.net/myFirstDatabase?retryWrites=true&w=majority\")\n",
        "db = client.Phone_numbers\n",
        "records=db.Notebook\n",
        "records.count_documents({})"
      ],
      "metadata": {
        "id": "n-tldbbRJ-GI"
      },
      "execution_count": null,
      "outputs": []
    },
    {
      "cell_type": "code",
      "source": [
        "def create():\n",
        "  fname = input(\"Enter first name :- \")\n",
        "  lname = input(\"Enter 'Last name :- \")\n",
        "  country_code = input(\"Enter country code(just type numbers) :- \")\n",
        "  phone = input(\"Enter Phone numer (Enter number without spaces) :- \")\n",
        "  gender = input ( \"Enter Gender (M/F/O) :- \")\n",
        "  mail_id = input(\"Enter Mail id :- \")\n",
        "  # adress = input(\"Enter adress :- \")\n",
        "  lis = {\"Fname\":fname, \"Lname\":lname,\"Name\":fname+\" \"+lname,\"Country_code\":country_code,\"Number\":phone,\"Gender\":gender,\"EMail_id\":mail_id}\n",
        "  records.insert_one(lis)\n",
        "def findf(x):\n",
        "  lis1 = records.find({\"Fname\":x},{\"_id\":0,\"Name\":1,\"Country_code\":1,\"Number\":1,\"Gender\":1 }).sort(\"Fname\")\n",
        "  y= pd.DataFrame(lis1)\n",
        "  print(y)\n",
        "    \n",
        "def findl(x):\n",
        "  lis1 = records.find({\"Lname\":x},{\"_id\":0,\"Name\":1,\"Country_code\":1,\"Number\":1,\"Gender\":1 }).sort(\"Fname\")\n",
        "  y= pd.DataFrame(lis1)\n",
        "  print(x)\n",
        "def findc(x):\n",
        "  lis1 = records.find({\"Country_code\":x},{\"_id\":0,\"Name\":1,\"Country_code\":1,\"Number\":1,\"Gender\":1 }).sort(\"Fname\")\n",
        "  y= pd.DataFrame(lis1)\n",
        "  print(x)\n",
        "\n",
        "def findp(x):\n",
        "  lis1 = records.find({\"Number\":x},{\"_id\":0,\"Name\":1,\"Country_code\":1,\"Number\":1,\"Gender\":1 }).sort(\"Fname\")\n",
        "  y= pd.DataFrame(lis1)\n",
        "  print(x)\n",
        "\n",
        "\n",
        "def Enter():\n",
        "  print(\"Here is the list of functions you can available\")\n",
        "  print(\"\"\"    \n",
        "          c -to create new contact\n",
        "          t - to find total number of contacts\n",
        "          f - to find the contact details \n",
        "          d - to delete the contact\n",
        "          dis - to display the total phonebook\n",
        "          disp - to view as data frame of contacts\n",
        "          q - to exit\"\"\")\n",
        "  x = input(\"Select your option - \")\n",
        "  if x==\"q\":\n",
        "    print(\"Thank you for using the service\")\n",
        "  elif x==\"c\":\n",
        "    create()\n",
        "    Enter()\n",
        "  elif x==\"f\":\n",
        "    print(\"\"\" \n",
        "            f - to search by first name\n",
        "            l - to search by last name\n",
        "            c - to search by country code\n",
        "            p - to search by phone number\n",
        "            q - to exit\"\"\")\n",
        "    a = input(\"Enter option :- \")\n",
        "    if a==\"q\":\n",
        "      print(\"Thank you for using the service\")\n",
        "    elif a==\"f\":\n",
        "      fname= input(\"Enter first name :- \")\n",
        "      findf(fname)\n",
        "      Enter()\n",
        "    elif a==\"l\":\n",
        "      lname= input(\"Enter last name :- \")\n",
        "      findl(lname)\n",
        "      Enter()\n",
        "    elif a==\"c\":\n",
        "      ccode= input(\"Enter country code :- \")\n",
        "      findc(ccode)\n",
        "      Enter()\n",
        "    elif a==\"p\":\n",
        "      pnumber= input(\"Enter phone number :- \")\n",
        "      findp(pnumber)\n",
        "      Enter()\n",
        "\n",
        "  elif x==\"dis\":\n",
        "    z=records.find({},{\"_id\":0,\"Name\":1,\"Country_code\":1,\"Number\":1,\"Gender\":1 }).sort(\"Fname\")\n",
        "    for y in z:\n",
        "      print(y)\n",
        "      Enter()\n",
        "  elif x ==\"disp\":\n",
        "    z= list(records.find())\n",
        "    y= pd.DataFrame(z)\n",
        "    print(y)\n",
        "    Enter()\n",
        "\n",
        "  elif x==\"d\":\n",
        "    print(\"You can delete only one contact at a time by using first name and last name\")\n",
        "    fname= input(\"Enter first name :- \")\n",
        "    lname= input(\"Enter last name :- \")\n",
        "    query = {\"Fname\":fname, \"Lname\":lname}\n",
        "    records.delete_one(query)\n",
        "  elif x== \"t\":\n",
        "    print(\"Total contacts\",records.count_documents({}))\n",
        "    Enter()\n",
        "\n",
        "print(\"Welcome to phone Notebook\")\n",
        "Enter()\n",
        "\n",
        "\n",
        "\n",
        "\n"
      ],
      "metadata": {
        "id": "ec-uTxXlqPm0"
      },
      "execution_count": null,
      "outputs": []
    }
  ]
}